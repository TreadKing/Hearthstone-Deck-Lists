{
 "nbformat": 4,
 "nbformat_minor": 2,
 "metadata": {
  "language_info": {
   "name": "python",
   "codemirror_mode": {
    "name": "ipython",
    "version": 2
   },
   "version": "3.7.4-final"
  },
  "orig_nbformat": 2,
  "file_extension": ".py",
  "mimetype": "text/x-python",
  "name": "python",
  "npconvert_exporter": "python",
  "pygments_lexer": "ipython2",
  "version": 2,
  "kernelspec": {
   "name": "python37464bitbaseconda15948ad715344d2b8d9605725bc90444",
   "display_name": "Python 3.7.4 64-bit ('base': conda)"
  }
 },
 "cells": [
  {
   "cell_type": "code",
   "execution_count": 85,
   "metadata": {},
   "outputs": [],
   "source": [
    "from hearthstone.deckstrings import Deck\n",
    "from hearthstone.deckstrings import FormatType\n",
    "import json\n",
    "import pandas as pd\n",
    "import numpy as np"
   ]
  },
  {
   "cell_type": "code",
   "execution_count": 86,
   "metadata": {},
   "outputs": [
    {
     "name": "stdout",
     "output_type": "stream",
     "text": "[(754, 1), (38318, 1), (40596, 1), (41081, 1), (42818, 1), (43417, 1), (64, 2), (95, 2), (254, 2), (836, 2), (1124, 2), (40372, 2), (40523, 2), (40527, 2), (40797, 2), (41929, 2), (42656, 2), (42759, 2)]\n"
    }
   ],
   "source": [
    "deckstring = 'AAECAZICBvIFrqsClL0C+cACws4CmdMCDEBf/gHEBuQItLsCy7wCz7wC3b4CyccCoM0Ch84CAA=='\n",
    "deck = Deck.from_deckstring(deckstring)\n",
    "print(deck.cards)\n"
   ]
  },
  {
   "cell_type": "code",
   "execution_count": 87,
   "metadata": {},
   "outputs": [
    {
     "data": {
      "text/html": "<div>\n<style scoped>\n    .dataframe tbody tr th:only-of-type {\n        vertical-align: middle;\n    }\n\n    .dataframe tbody tr th {\n        vertical-align: top;\n    }\n\n    .dataframe thead th {\n        text-align: right;\n    }\n</style>\n<table border=\"1\" class=\"dataframe\">\n  <thead>\n    <tr style=\"text-align: right;\">\n      <th></th>\n      <th>attack</th>\n      <th>cardClass</th>\n      <th>cost</th>\n      <th>dbfId</th>\n      <th>faction</th>\n      <th>health</th>\n      <th>id</th>\n      <th>name</th>\n      <th>rarity</th>\n      <th>set</th>\n      <th>...</th>\n      <th>techLevel</th>\n      <th>collectionText</th>\n      <th>armor</th>\n      <th>puzzleType</th>\n      <th>hideStats</th>\n      <th>howToEarn</th>\n      <th>howToEarnGolden</th>\n      <th>classes</th>\n      <th>multiClassGroup</th>\n      <th>questReward</th>\n    </tr>\n  </thead>\n  <tbody>\n    <tr>\n      <td>0</td>\n      <td>0.0</td>\n      <td>NEUTRAL</td>\n      <td>0.0</td>\n      <td>52424</td>\n      <td>ALLIANCE</td>\n      <td>0.0</td>\n      <td>ART_BOT_Bundle_001</td>\n      <td>Golden Legendary</td>\n      <td>LEGENDARY</td>\n      <td>TB</td>\n      <td>...</td>\n      <td>NaN</td>\n      <td>NaN</td>\n      <td>NaN</td>\n      <td>NaN</td>\n      <td>NaN</td>\n      <td>NaN</td>\n      <td>NaN</td>\n      <td>NaN</td>\n      <td>NaN</td>\n      <td>NaN</td>\n    </tr>\n    <tr>\n      <td>1</td>\n      <td>NaN</td>\n      <td>MAGE</td>\n      <td>5.0</td>\n      <td>2539</td>\n      <td>NaN</td>\n      <td>NaN</td>\n      <td>AT_001</td>\n      <td>Flame Lance</td>\n      <td>COMMON</td>\n      <td>TGT</td>\n      <td>...</td>\n      <td>NaN</td>\n      <td>NaN</td>\n      <td>NaN</td>\n      <td>NaN</td>\n      <td>NaN</td>\n      <td>NaN</td>\n      <td>NaN</td>\n      <td>NaN</td>\n      <td>NaN</td>\n      <td>NaN</td>\n    </tr>\n    <tr>\n      <td>2</td>\n      <td>NaN</td>\n      <td>MAGE</td>\n      <td>3.0</td>\n      <td>2541</td>\n      <td>NaN</td>\n      <td>NaN</td>\n      <td>AT_002</td>\n      <td>Effigy</td>\n      <td>RARE</td>\n      <td>TGT</td>\n      <td>...</td>\n      <td>NaN</td>\n      <td>NaN</td>\n      <td>NaN</td>\n      <td>NaN</td>\n      <td>NaN</td>\n      <td>NaN</td>\n      <td>NaN</td>\n      <td>NaN</td>\n      <td>NaN</td>\n      <td>NaN</td>\n    </tr>\n    <tr>\n      <td>3</td>\n      <td>3.0</td>\n      <td>MAGE</td>\n      <td>2.0</td>\n      <td>2545</td>\n      <td>NaN</td>\n      <td>2.0</td>\n      <td>AT_003</td>\n      <td>Fallen Hero</td>\n      <td>RARE</td>\n      <td>TGT</td>\n      <td>...</td>\n      <td>NaN</td>\n      <td>NaN</td>\n      <td>NaN</td>\n      <td>NaN</td>\n      <td>NaN</td>\n      <td>NaN</td>\n      <td>NaN</td>\n      <td>NaN</td>\n      <td>NaN</td>\n      <td>NaN</td>\n    </tr>\n    <tr>\n      <td>4</td>\n      <td>NaN</td>\n      <td>MAGE</td>\n      <td>1.0</td>\n      <td>2572</td>\n      <td>NaN</td>\n      <td>NaN</td>\n      <td>AT_004</td>\n      <td>Arcane Blast</td>\n      <td>EPIC</td>\n      <td>TGT</td>\n      <td>...</td>\n      <td>NaN</td>\n      <td>NaN</td>\n      <td>NaN</td>\n      <td>NaN</td>\n      <td>NaN</td>\n      <td>NaN</td>\n      <td>NaN</td>\n      <td>NaN</td>\n      <td>NaN</td>\n      <td>NaN</td>\n    </tr>\n  </tbody>\n</table>\n<p>5 rows × 34 columns</p>\n</div>",
      "text/plain": "   attack cardClass  cost  dbfId   faction  health                  id  \\\n0     0.0   NEUTRAL   0.0  52424  ALLIANCE     0.0  ART_BOT_Bundle_001   \n1     NaN      MAGE   5.0   2539       NaN     NaN              AT_001   \n2     NaN      MAGE   3.0   2541       NaN     NaN              AT_002   \n3     3.0      MAGE   2.0   2545       NaN     2.0              AT_003   \n4     NaN      MAGE   1.0   2572       NaN     NaN              AT_004   \n\n               name     rarity  set  ... techLevel collectionText  armor  \\\n0  Golden Legendary  LEGENDARY   TB  ...       NaN            NaN    NaN   \n1       Flame Lance     COMMON  TGT  ...       NaN            NaN    NaN   \n2            Effigy       RARE  TGT  ...       NaN            NaN    NaN   \n3       Fallen Hero       RARE  TGT  ...       NaN            NaN    NaN   \n4      Arcane Blast       EPIC  TGT  ...       NaN            NaN    NaN   \n\n  puzzleType hideStats howToEarn howToEarnGolden classes  multiClassGroup  \\\n0        NaN       NaN       NaN             NaN     NaN              NaN   \n1        NaN       NaN       NaN             NaN     NaN              NaN   \n2        NaN       NaN       NaN             NaN     NaN              NaN   \n3        NaN       NaN       NaN             NaN     NaN              NaN   \n4        NaN       NaN       NaN             NaN     NaN              NaN   \n\n  questReward  \n0         NaN  \n1         NaN  \n2         NaN  \n3         NaN  \n4         NaN  \n\n[5 rows x 34 columns]"
     },
     "execution_count": 87,
     "metadata": {},
     "output_type": "execute_result"
    }
   ],
   "source": [
    "cards_df = pd.read_json('cards.json')\n",
    "cards_df.head()"
   ]
  },
  {
   "cell_type": "code",
   "execution_count": 88,
   "metadata": {},
   "outputs": [
    {
     "data": {
      "text/html": "<div>\n<style scoped>\n    .dataframe tbody tr th:only-of-type {\n        vertical-align: middle;\n    }\n\n    .dataframe tbody tr th {\n        vertical-align: top;\n    }\n\n    .dataframe thead th {\n        text-align: right;\n    }\n</style>\n<table border=\"1\" class=\"dataframe\">\n  <thead>\n    <tr style=\"text-align: right;\">\n      <th></th>\n      <th>id</th>\n      <th>dbfId</th>\n      <th>cost</th>\n      <th>name</th>\n    </tr>\n  </thead>\n  <tbody>\n    <tr>\n      <td>0</td>\n      <td>ART_BOT_Bundle_001</td>\n      <td>52424</td>\n      <td>0.0</td>\n      <td>Golden Legendary</td>\n    </tr>\n    <tr>\n      <td>1</td>\n      <td>AT_001</td>\n      <td>2539</td>\n      <td>5.0</td>\n      <td>Flame Lance</td>\n    </tr>\n    <tr>\n      <td>2</td>\n      <td>AT_002</td>\n      <td>2541</td>\n      <td>3.0</td>\n      <td>Effigy</td>\n    </tr>\n    <tr>\n      <td>3</td>\n      <td>AT_003</td>\n      <td>2545</td>\n      <td>2.0</td>\n      <td>Fallen Hero</td>\n    </tr>\n    <tr>\n      <td>4</td>\n      <td>AT_004</td>\n      <td>2572</td>\n      <td>1.0</td>\n      <td>Arcane Blast</td>\n    </tr>\n  </tbody>\n</table>\n</div>",
      "text/plain": "                   id  dbfId  cost              name\n0  ART_BOT_Bundle_001  52424   0.0  Golden Legendary\n1              AT_001   2539   5.0       Flame Lance\n2              AT_002   2541   3.0            Effigy\n3              AT_003   2545   2.0       Fallen Hero\n4              AT_004   2572   1.0      Arcane Blast"
     },
     "execution_count": 88,
     "metadata": {},
     "output_type": "execute_result"
    }
   ],
   "source": [
    "cards_df_new = cards_df[['id','dbfId','cost','name']]\n",
    "cards_df_new.head()"
   ]
  },
  {
   "cell_type": "code",
   "execution_count": 89,
   "metadata": {},
   "outputs": [
    {
     "name": "stdout",
     "output_type": "stream",
     "text": "['id', 'dbfId', 'cost', 'name']\n"
    }
   ],
   "source": [
    "col_list = []\n",
    "for (name, series) in cards_df_new.iteritems():\n",
    "    #if series.dtype != 'object' and name != 'origin':\n",
    "        col_list.append(name)\n",
    "\n",
    "print(col_list)"
   ]
  },
  {
   "cell_type": "code",
   "execution_count": 90,
   "metadata": {},
   "outputs": [],
   "source": [
    "cards_dict = {}\n",
    "card_df_names = cards_df[['dbfId','name','cost']]\n",
    "cards_dict = card_df_names.set_index('dbfId').T.to_dict()"
   ]
  },
  {
   "cell_type": "code",
   "execution_count": 91,
   "metadata": {},
   "outputs": [
    {
     "name": "stdout",
     "output_type": "stream",
     "text": "<class 'pandas.core.frame.DataFrame'>\nRangeIndex: 8703 entries, 0 to 8702\nData columns (total 3 columns):\ndbfId    8703 non-null int64\nname     8703 non-null object\ncost     6344 non-null float64\ndtypes: float64(1), int64(1), object(1)\nmemory usage: 204.1+ KB\n"
    }
   ],
   "source": [
    "card_df_names.info()"
   ]
  },
  {
   "cell_type": "code",
   "execution_count": 92,
   "metadata": {},
   "outputs": [
    {
     "name": "stdout",
     "output_type": "stream",
     "text": "{'name': 'Flame Lance', 'cost': 5.0}\n"
    }
   ],
   "source": [
    "# for x in cards_dict:\n",
    "#     print(cards_dict[x])\n",
    "print(cards_dict[2539])"
   ]
  },
  {
   "cell_type": "code",
   "execution_count": 100,
   "metadata": {},
   "outputs": [],
   "source": [
    "dfv_round_1 = pd.read_csv('Varsity round 1 decks.csv')\n",
    "dfv_round_1.head()\n",
    "dfv_round_1 = dfv_round_1.dropna()"
   ]
  },
  {
   "cell_type": "code",
   "execution_count": 101,
   "metadata": {},
   "outputs": [],
   "source": [
    "dfv_round_1 = dfv_round_1[['Deck 1','Deck 2', 'Deck 3', 'Deck 4']]"
   ]
  },
  {
   "cell_type": "code",
   "execution_count": 102,
   "metadata": {},
   "outputs": [
    {
     "name": "stdout",
     "output_type": "stream",
     "text": "[['AAECAZfDAx5LogT8BJAH/wf4DPkMnfACm/MC9PUCkvgCjvsCnvsCs/wCoIADgYcD7IkDkp8Dn6ED/KMDhKcDgqgD8qgD9agD2a0D360D/bADkbED/7QDn7cDAAA=', 'AAECAZICBiSKB67SAvX8AvihA/atAwxAVl/+AcQGv/ICqaIDyKID76ID2akD+bUDxrcDAA==', 'AAECAZ8FBK8E8gWggAOftwMNzwavB5j7Avb9Atb+Atf+Atn+AuH+AsyBA8WhA4euA+qwA+ywAwA=', 'AAECAafDAwjWCqCAA42CA9aZA5ObA5ibA9msA8jAAwuXhwOClAOZmwOhoQOvpQPRpQOZqQOfqQPyrAPNrwP9sAMA'], ['AAECAR8EhwSvBMkEh7ADDccD4QSXCO/xAoqtA4utA/muA/uvA/yvA/6vA/+wA4exA6+3AwA=', 'AAECAf0EHk2KAbsCyQOrBMUEywThB+wHjQjO7wLG+AKggAPoiQODlgOfmwOgmwOKngOhoQP8owOLpAOSpAPypQP6rAPwrwOHsQORsQOMtgPhtgOftwMAAA==', 'AAECAaIHCrICrwTdCK+RA5KXA7muA8GuA4KxA+O0A8vAAwq0Ae0CzQOIB+/xAo+XA/WnA/6uA6qvA86vAwA=', 'AAECAa0GCNMK1grXCqCAA42CA9aZA5ObA92rAwuXhwOClAOYmwOZmwODoAOhoQOvpQPRpQOZqQOfqQPyrAMA'], ['AAECAZ/HAgqlCdMKoIADjYIDk5sDmJsD0aUD8qUD47QDyMADCpeHA4KUA5mbA6GhA6+lA5mpA5+pA9msA/KsA/2wAwA=', 'AAECAaHDAwgkrtIC9fwC2KAD+KEDqaID3KID9q0DC0BWX/4BxAa/8gLIogPvogPZqQP5tQPGtwMA', 'AAECAaIHDLICzQOvBKCAA5KXA8GuA6qvA+O0A5u2A8O2A5+3A8vAAwm0Ae0CiAePlwP1pwO5rgP+rgPOrwOCsQMA', 'AAECAZfDAwSvBOO0A5+3A8XAAw0WkAPUBPsMnfAC3KkD2K0D2q0D/q4Dqq8D0q8DpLYDq7YDAA=='], ['AAECAYO6AgiyAq8EoIADkpcDwa4D47QDn7cDy8ADC7QB7QLNA4gHj5cD9acDua4D/q4Dqq8Dzq8DgrEDAA==', 'AAECAYoWAq8Eh7ADDscD4QSXCIqtA4utA/muA/uvA/yvA/6vA+ewA/+wA4exA7q2A6+3AwA=', 'AAECAf0EHk2KAckDqwTFBMsE7AeNCM7vAu72AqCAA4OWA5+bA6CbA4qeA6GhA/yjA5KkA/KlA4SnA/qsA/CvA4iwA+ewA4exA5GxA4i2A4y2A+G2A5+3AwAA', 'AAECAaPLAwadApADrwTjtAOftwPFwAMMFhyd8AKz/AL0pwPcqQPYrQParQP+rgOqrwPSrwOrtgMA'], ['AAECAa/XAwbHA4cErwTv8QKHsAPnsAMM4QSXCIqtA4utA/muA/uvA/yvA/6vA/+wA4exA7q2A6+3AwA=', 'AAECAaIHBrICrwSSlwPBrgPjtAPLwAMMtAHtAs0DiAfdCI+XA/WnA7muA/6uA6qvA86vA4KxAwA=', 'AAECAYsWBK8EoIADzIEDn7cDDc8GrweY+wL2/QLW/gLX/gLZ/gLh/gLFoQOHrgPqsAPssAONtgMA', 'AAECAaa4Awok/gH3A67SAvX8AsX9AvihA6miA6+iA/atAwpAVl/EBsiiA9yiA++iA9mpA/m1A8a3AwA='], ['AAECAZvDAwiyAq8EoIADkpcDwa4D47QDn7cDy8ADC7QB7QKIB90I7/EC9acDua4D/q4Dqq8Dzq8Dm7YDAA==', 'AAECAaHDAwSvBKCAA4iwA5+3Aw1A4QTOlAPSpQPZqQP7rQOMrgPerwPnsAP/sAOFsQOHsQP/tQMA', 'AAECAZ/DAwKvBIewAw7HA8kE4QSXCIqtA4utA/muA/uvA/yvA/6vA/+wA4exA7q2A6+3AwA=', 'AAECAaXDAx6KAckDqwTFBMsE4QfsB40IvuwCzu8C7vYCxvgCoIAD6IkDg5YDn5sDoJsDip4DwqED/KMDi6QDkqQDhKcD9awD+qwD8K8DkbEDjLYD4bYDn7cDAAA='], ['AAECAZICBiSu0gL1/ALYoAP4oQP2rQMMQFZf/gH3A8QGv/ICqaIDyKID76ID2akD+bUDAA==', 'AAECAa/XAx6oArUDrwThBJcI2wmggAOghQO2nAP8owPkpAOmpQPSpQOEpwOKrQOLrQOOrQP5rgP8rwP+rwOHsAP/sAOCsQORsQPYsgOEtgO6tgPDtgOftwOvtwMAAA==', 'AAECAaIHCLICrwSggAOSlwPBrgPjtAOftwPLwAMLtAHtAs0DiAePlwP1pwO5rgP+rgOqrwPOrwOCsQMA', 'AAECAaPLAwLjtAPFwAMOFhyQA9QEnfAC3KkD2K0D2q0D/q4Dqq8D0q8DpLYDq7YDurYDAA=='], ['AAECAR8eqAK1A68E4QSXCNsJoIADoIUDtpwD/KMD5KQDpqUD0qUDhKcDiq0Di60Djq0D+a4D/K8D/q8Dh7AD/7ADgrEDkbED2LIDhLYDurYDw7YDn7cDr7cDAAA=', 'AAECAaIHCLICrwSggAOSlwPBrgPjtAOftwPLwAMLtAHtAs0DiAePlwP1pwO5rgP+rgOqrwPOrwOCsQMA', 'AAECAc2xAh6KAckDqwTFBMsEjQi+7ALO7wLu9gLG+AKggAPoiQODlgOfmwOgmwOKngOhoQPCoQP8owOLpAOSpAPypQOEpwP6rAPwrwORsQOEtgOMtgPhtgOftwMAAA==', 'AAECAQcErwSz/ALjtAPFwAMNFpAD1AT7DJ3wAtypA9itA9qtA/6uA6qvA9KvA6S2A6u2AwA='], ['AAECAa/XAwTHA4cErwSHsAMN4QSXCIqtA4utA/muA/uvA/yvA/6vA+ewA/+wA4exA7q2A6+3AwA=', 'AAECAZ/HAgiggAONggOWigOTmwOGnQODoAPdqwPZrAML1gqXhwOClAOYmwOZmwOhoQOvpQPRpQOZqQOfqQPyrAMA', 'AAECAYO6AgayAq8EkpcDwa4D47QDy8ADDLQB7QLNA4gH3QiPlwP1pwO5rgP+rgOqrwPOrwOCsQMA', 'AAECAbSKAwSvBI3wAqCAA5+3Aw1A4QTSpQPZqQP7rQP9rQOMrgPerwPnsAP/sAOFsQOHsQP/tQMA'], ['AAECAbSKAwSvBKCAA/2wA5+3Aw1A4QTSpQPZqQP7rQP9rQOMrgPerwPnsAP/sAOFsQOHsQP/tQMA', 'AAECAaIHCLICrwSggAOSlwPBrgPjtAOftwPLwAMLtAHtAs0DiAePlwP1pwO5rgP+rgOqrwPOrwOCsQMA', 'AAECAQcErwT7DOO0A8XAAw0WHJAD1ASd8ALcqQPYrQParQP+rgOqrwPSrwOktgOrtgMA', 'AAECAR8CrwTbCQ7HA+EElwjv8QKKrQOLrQP5rgP7rwP8rwP+rwP/sAOHsQO6tgOvtwMA'], ['AAECAR8engGoArUDxwOHBK8ErgaAB5cIxQjbCf4MmPAC7/ECgPMCoIADp4IDm4UDoIUD9YkD5pYD+ZYDvpgDtpwD/KMD5aQDn6UDoqUDpqUDn7cDAAA=', 'AAECAf0GAuO0A/G/Aw4w0wGxCMII3IYDxIkDiJ0D/acD6KwD6qwD+a4D/q4Dqq8D068DAA==', 'AAECAQcGkAOvBKCAA/WoA+O0A8XAAwwW1AT7DJ3wApvzArP8AtypA9itA9qtA/6uA6qvA9KvAwA=', 'AAECAaoIBO/3ArmZA9WlA+GoAw2cAt4F7/ECi4UDq4wDtJEDtJcDxpkDpaEDu6UDz6UD1KUD+aUDAA=='], ['AAECAQcGkAOvBOO0A6u2A5+3A8XAAwwW1AT7DJ3wArP8AtypA9itA9qtA/6uA6qvA9KvA6S2AwA=', 'AAECAR8ExwOHBK8Eh7ADDeEElwiKrQOLrQP5rgP7rwP8rwP+rwPnsAP/sAOHsQO6tgOvtwMA', 'AAECAc2xAh6KAckDqwTFBMsE4QeNCL7sAs7vAu72Asb4AqCAA+iJA4OWA5+bA6CbA4qeA6GhA/yjA4ukA5KkA/KlA4SnA/qsA/CvA5GxA4S2A4y2A+G2A5+3AwAA', 'AAECAYO6AgayAq8EkpcDwa4D47QDy8ADDLQB7QLNA4gHj5cD9acDua4D/q4Dqq8Dzq8DgrEDm7YDAA=='], ['AAECAR8EhwSvBIewA+ewAw3HA+EElwiKrQOLrQP5rgP7rwP8rwP+rwP/sAOHsQO6tgOvtwMA', 'AAECAaPLAwLjtAPFwAMOFhyQA9QE+wyd8ALcqQPYrQParQP+rgOqrwPSrwOktgOrtgMA', 'AAECAZ/HAgqlCdMKoIADjYIDk5sDmJsD0aUD8qUD47QDyMADCpeHA4KUA5mbA6GhA6+lA5mpA5+pA9msA/KsA/2wAwA=', 'AAECAbSKAwgk/gGu0gK/8gL1/ALF/QL4oQP2rQMLQFZf9wPEBqmiA6+iA8iiA++iA9mpA/m1AwA='], ['AAECAaPDAwrFBJz4AqCAA/yjA9OvA/2wA5GxA+O0A5+3A/G/AwqjAcQInakD5awD6KwD6qwD66wD7KwD/q4Dqq8DAA==', 'AAECAZvDAwqyAq8EoIADkpcDwa4DgrED47QDw7YDn7cDy8ADCrQB7QLNA4gHj5cD9acDua4D/q4Dqq8Dzq8DAA==', 'AAECAZfDAwSvBPSnA+O0A8XAAw0WkAPUBPsMnfAC3KkD2K0D2q0D/q4Dqq8D0q8DpLYDq7YDAA==', 'AAECAaXDAx6KAckDqwTFBMsE4QfsB40IvuwCzu8C7vYCxvgCoIAD6IkDg5YDn5sDoJsDip4D/KMDi6QDkqQD8qUDhKcD+qwD8K8DkbEDhLYDjLYD4bYDn7cDAAA='], ['AAECAR8ExwOHBK8Eh7ADDeEElwiKrQOLrQP5rgP7rwP8rwP+rwPnsAP/sAOHsQO6tgOvtwMA', 'AAECAaIHBrICrwSSlwPBrgPjtAPLwAMMtAHtAs0DiAfdCI+XA/WnA7muA/6uA6qvA86vA4KxAwA=', 'AAECAZICAv0C960DDkDtA+YF3/sCv/0C1YMDw5QDzpQD05wD7aID76ID/K0D/q0D/60DAA==', 'AAECAf0GAvb9AvG/Aw4wsQjCCNyGA4idA/2nA+isA+qsA/muA/6uA6qvA9OvA7C2A7q2AwA='], ['AAECAf0GAuO0A/G/Aw4w0wGxCMII3IYDxIkDiJ0D/acD6KwD6qwD+a4D/q4D068DgrEDAA==', 'AAECAR8eqAK1A8cDrwTJBOEElwjFCNsJmPAC7/ECoIADoIUDtpwD/KMD5KQDpqUDhKcDi60Djq0D+a4D+68D/K8D/q8Dh7AD57ADgrEDkbED2LIDn7cDAAA=', 'AAECAZ/HAgjWCqCAA42CA9aZA5ObA5ibA9msA8jAAwuXhwOClAOZmwOhoQOvpQPRpQOZqQOfqQPyrAPNrwP9sAMA', 'AAECAYsWBK8E3QqggAOftwMNzwavB5j7Avb9Atb+Atf+Atn+AuH+AsyBA8WhA4euA+qwA+ywAwA='], ['AAECAYsWBK8E3QqggAOftwMNzwavB5j7Avb9Atb+Atf+Atn+AuH+AsyBA8WhA4euA+qwA+ywAwA=', 'AAECAR8ExwOHBK8Eh7ADDeEElwiKrQOLrQP5rgP7rwP8rwP+rwPnsAP/sAOHsQO6tgOvtwMA', 'AAECAYO6AgqyAq8E3QiggAOSlwPBrgOCsQPjtAOftwPLwAMKtAHtAs0DiAePlwP1pwO5rgP+rgOqrwPOrwMA', 'AAECAcn1AgLjtAPxvwMOMNMBsQjCCNyGA8SJA4idA/2nA+isA+qsA/muA/6uA9OvA4KxAwA='], ['AAECAR8ExwOvBJcIh7ADDYcE4QSKrQOLrQP5rgP7rwP8rwP+rwPnsAP/sAOHsQO6tgOvtwMA', 'AAECAYsWBK8E3QqggAOftwMNzwavB5j7Avb9Atb+Atf+Atn+AuH+AsyBA8WhA4euA+qwA+ywAwA=', 'AAECAZ/HAgiggAONggPWmQOTmwPRpQOfqQP9sAPIwAML1gqXhwOClAOYmwOZmwOhoQOvpQOZqQPZrAPyrAPNrwMA', 'AAECAdfXAwL3A/etAw79Au0D5gXf+wK//QLVgwPDlAPOlAPTnAPtogPvogP8rQP+rQP/rQMA'], ['AAECAR8eqAK1A8cDhwTJBOEExQiBCv4MmPACoIADp4IDm4UDoIUD+ZYDnp0D/KMD5KQD5aQDn6UDoqUDpqUDjq0D+68D/K8D/q8Dh7ADkbED2LIDr7cDAAA=', 'AAECAcn1Agi0A8UE7QWc+AKggAPwrAPxrAOIsAMLigHyBc4H4QeNCMQI5awD66wD7KwD7qwDh7EDAA==', 'AAECAZ/HAgbTCqCAA42CA9aZA5ObA92rAwzWCpeHA4KUA5ibA5mbA4OgA6GhA6+lA9GlA5mpA5+pA/KsAwA=', 'AAECAYO6AgiyAq8EoIADkpcDwa4D47QDn7cDy8ADC7QB7QLNA4gHj5cD9acDua4D/q4Dqq8Dzq8DgrEDAA=='], ['AAECAa/XAwKvBIewAw7HA+EElwiKrQOLrQP5rgP7rwP8rwP+rwPnsAP/sAOHsQO6tgOvtwMA', 'AAECAf0EHooByQOrBMUEywThB40IvuwCzu8C7vYCxvgCoIAD6IkDg5YDn5sDoJsDip4DoaED/KMDi6QDkqQD8qUDhKcD+qwD8K8DkbEDhLYDjLYD4bYDn7cDAAA=', 'AAECAaIHCrICzQOvBKCAA5KXA8GuA+O0A5u2A8O2A8vAAwq0Ae0CiAePlwP1pwO5rgP+rgOqrwPOrwOCsQMA', 'AAECAQcEkAOvBOO0A8XAAw0W1AT7DJ3wArP8AtypA9itA9qtA/6uA6qvA9KvA6S2A6u2AwA='], ['AAECAR8ExwOHBK8Eh7ADDeEElwjv8QKKrQOLrQP5rgP7rwP8rwP+rwP/sAOHsQO6tgOvtwMA', 'AAECAcOfAwSvBN0KoIADn7cDDc8GrweY+wL2/QLW/gLX/gLZ/gLh/gLMgQPFoQOHrgPqsAPssAMA', 'AAECAaPLAwLjtAPFwAMOFhyQA/sMnfAC3KkD2K0D2q0D/q4Dqq8D0q8DpLYDq7YDurYDAA==', 'AAECAZ/HAgjWCqCAA42CA9aZA5ObA5ibA9msA8jAAwuXhwOClAOZmwOhoQOvpQPRpQOZqQOfqQPyrAPNrwP9sAMA'], ['AAECAf0EHooByQOrBMUEywThB+wHjQi+7ALO7wLu9gLG+AKggAPoiQODlgOfmwOgmwOKngP8owOLpAOSpAPypQOEpwP6rAPwrwORsQOEtgOMtgPhtgOftwMAAA==', 'AAECAYwWBK8E47QDn7cDxcADDRaQA9QE+wyd8ALcqQPYrQParQP+rgOqrwPSrwOktgOrtgMA', 'AAECAaIHBrICrwSSlwPBrgPjtAPLwAMMtAHtAs0DiAePlwP1pwO5rgP+rgOqrwPOrwOCsQObtgMA', 'AAECAR8ExwOHBK8Eh7ADDeEElwiKrQOLrQP5rgP7rwP8rwP+rwPnsAP/sAOHsQO6tgOvtwMA'], ['AAECAR8ExwOHBK8Eh7ADDeEElwiKrQOLrQP5rgP7rwP8rwP+rwPnsAP/sAOHsQO6tgOvtwMA', 'AAECAaToAgSvBKCAA+ywA5+3Aw3PBq8HmPsC9v0C1v4C1/4C2f4C4f4CzIEDxaEDh64D6rADjbYDAA==', 'AAECAYO6AgayAq8EkpcDwa4D47QDy8ADDLQB7QLNA4gH3Qjv8QKPlwP1pwO5rgP+rgOqrwPOrwMA', 'AAECAQcErwTjtAOftwPFwAMNFtQE+wyd8AKz/ALcqQPYrQParQP+rgOqrwPSrwOktgOrtgMA'], ['AAECAaPLAwivBPIFigf7DKCAA/KoA+O0A8XAAwtLogT/B53wApvzArP8AtitA9qtA/6uA6qvA9KvAwA=', 'AAECAdfXAwL3A/etAw79Au0D5gXf+wK//QLVgwPDlAPOlAPTnAPtogPvogP8rQP+rQP/rQMA', 'AAECAaIHBLICkpcD47QDy8ADDbQBtPYC3voC7PwCj5cD9acDua4Du64Dva4Dv64D/q4Dqq8Dzq8DAA==', 'AAECAf0GCMUEnPgCoIAD/KMD068DkbED47QD8b8DC6MBxAidqQPlrAPorAPqrAPrrAPsrAP+rgOqrwP9sAMA'], ['AAECAR8ExwOHBK8Eh7ADDeEElwiKrQOLrQP5rgP7rwP8rwP+rwPnsAP/sAOHsQO6tgOvtwMA', 'AAECAQcGkAOvBOO0A6u2A5+3A8XAAwwW1AT7DJ3wArP8AtypA9itA9qtA/6uA6qvA9KvA6S2AwA=', 'AAECAafDAwbWCqCAA42CA9aZA5ObA8jAAwyXhwOClAOYmwOZmwOhoQOvpQOZqQOfqQPZrAPyrAPNrwP9sAMA', 'AAECAaIHCLICrwSggAOSlwPBrgPjtAOftwPLwAMLtAHtAs0DiAePlwP1pwO5rgP+rgOqrwPOrwOCsQMA'], ['AAECAf0GCMUEnPgCoIAD/KMD068DkbED47QD8b8DC6MBxAidqQPlrAPorAPqrAPrrAPsrAP+rgOqrwP9sAMA', 'AAECAYO6AgayAq8EkpcDwa4D47QDy8ADDLQB7QLNA4gH3Qjv8QKPlwP1pwO5rgP+rgOqrwPOrwMA', 'AAECAZ8FBK8E3QqggAOftwMNzwavB5j7Avb9Atb+Atf+Atn+AuH+AsyBA8WhA4euA+qwA+ywAwA=', 'AAECAbSKAwSvBI3wAqCAA5+3Aw1A4QTSpQPZqQP7rQP9rQOMrgPerwPnsAP/sAOFsQOHsQP/tQMA'], ['AAECAZICAvcD960DDv0C7QPmBd/7Ar/9AtWDA8OUA86UA9OcA+2iA++iA/ytA/6tA/+tAwA=', 'AAECAaPLAx5LogT8BJAH/wed8AKb8wL09QKS+AKO+wKe+wKz/AKggAPsiQOSnwOfoQOloQP8owOEpwOCqAPyqAP1qAPZrQPfrQORsQP/tAOltgOrtgPHtgOftwMAAA==', 'AAECAR8ExwOHBK8Eh7ADDeEElwiKrQOLrQP5rgP7rwP8rwP+rwPnsAP/sAOHsQO6tgOvtwMA', 'AAECAZ8FBK8E3QqggAOftwMNzwavB5j7Avb9Atb+Atf+Atn+AuH+AsyBA8WhA4euA+qwA+ywAwA='], ['AAECAc2xAh6KAckDqwTFBMsE4QeNCL7sAs7vAu72Asb4AqCAA+iJA4OWA5+bA6CbA4qeA6GhA/yjA4ukA5KkA/KlA4SnA/qsA/CvA5GxA4S2A4y2A+G2A5+3AwAA', 'AAECAZ/HAgjWCqCAA42CA9aZA5ObA5ibA9GlA8jAAwuXhwOClAOZmwOhoQOvpQOZqQOfqQPZrAPyrAPNrwP9sAMA', 'AAECAa/XAwTHA4cErwSHsAMN4QSXCIqtA4utA/muA/uvA/yvA/6vA+ewA/+wA4exA7q2A6+3AwA=', 'AAECAaIHCLICrwSggAOSlwPBrgPjtAOftwPLwAMLtAHtAs0DiAePlwP1pwO5rgP+rgOqrwPOrwOCsQMA'], ['AAECAYO6AgiyAq8EoIADkpcDwa4D47QDn7cDy8ADC7QB7QLNA4gHj5cD9acDua4D/q4Dqq8Dzq8DgrEDAA==', 'AAECAQcEnQKvBOO0A8XAAw0WHJADnfACs/wC9KcD3KkD2K0D2q0D/q4Dqq8D0q8Dq7YDAA==', 'AAECAaCsAwjWCqCAA42CA9aZA5ObA5ibA9msA8jAAwuXhwOClAOZmwOhoQOvpQPRpQOZqQOfqQPyrAPNrwP9sAMA', 'AAECAR8ExwOHBK8Eh7ADDeEElwiKrQOLrQP5rgP7rwP8rwP+rwPnsAP/sAOHsQO6tgOvtwMA'], ['AAECAaPDAwrFBMQInPgCoIAD/KMD068DkbED47QDn7cD8b8DCqMBnakD5awD6KwD6qwD66wD7KwD/q4Dqq8D/bADAA==', 'AAECAR8ExwOHBK8Eh7ADDeEElwiKrQOLrQP5rgP7rwP8rwP+rwPnsAP/sAOHsQO6tgOvtwMA', 'AAECAZvDAwqyAs0DrwSggAOSlwPBrgOCsQPjtAOftwPLwAMKtAHtAogHj5cD9acDua4D/q4Dqq8Dzq8Dw7YDAA==', 'AAECAf0EHooByQOrBMUEywThB+wHjQjO7wLu9gLG+AKggAPoiQODlgOfmwOgmwOKngP8owOLpAOSpAPypQOEpwP6rAPwrwORsQOEtgOMtgPDtgPhtgOftwMAAA=='], ['AAECAYO6AgiyAq8EoIADkpcDwa4D47QDn7cDy8ADC7QB7QLNA4gHj5cD9acDua4D/q4Dqq8Dzq8DgrEDAA==', 'AAECAf0GAuO0A/G/Aw4w0wGxCMII3IYDxIkDiJ0D/acD6KwD6qwD+a4D/q4D068DgrEDAA==', 'AAECAR8ExwOHBK8Eh7ADDeEElwiKrQOLrQP5rgP7rwP8rwP+rwPnsAP/sAOHsQO6tgOvtwMA', 'AAECAbSKAwSvBI3wAqCAA5+3Aw1A4QTSpQPZqQP7rQP9rQOMrgPerwPnsAP/sAOFsQOHsQP/tQMA'], ['AAECAZ/HAgKppQOFrQMO+ALlBNUIpQnRCtIK8gz3DPsMr6UD0qUD/acDhKgDhLYDAA==', 'AAECAdfXAwbEBq7SAr/yAvX8AvihA/O3AwxAVl/+AfcDqaIDyKID3KID76ID2akD+bUDxrcDAA==', 'AAECAYO6Ah60AbIC7QLNA68EiAfdCKbvAu/xAqCAA7SGA7SRA4+XA5KXA72ZA4mbA/yjA4SnA/WnA7euA7muA7+uA/6uA6qvA86vA5GxA+O0A4S2A8O2A8vAAwAA', 'AAECAaPDAwKCpQPHtgMO2QexCMII+v4CxIkDtJEDiJ0D+qQD+6QD/KQDgaUD+a4DsLYDurYDAA=='], ['AAECAZICBK8EoIADiLADn7cDDUDhBNKlA9mpA/utA/2tA4yuA96vA+ewA/+wA4WxA4exA/+1AwA=', 'AAECAZ/HAgjWCqCAA42CA9aZA5ObA5ibA9msA8jAAwuXhwOClAOZmwOhoQOvpQPRpQOZqQOfqQPyrAPNrwP9sAMA', 'AAECAZ/DAwSHBK8Eh7AD57ADDccD4QSXCIqtA4utA/muA/uvA/yvA/6vA/+wA4exA7q2A6+3AwA=', 'AAECAaPLAwSQA68E47QDxcADDRYc1AT7DJ3wAtypA9itA9qtA/6uA6qvA9KvA6S2A6u2AwA='], ['AAECAYoWBMcDhwSvBIewAw3hBJcIiq0Di60D+a4D+68D/K8D/q8D57AD/7ADh7EDurYDr7cDAA==', 'AAECAaToAgSvBK8HoIADn7cDDc8GmPsC9v0C1v4C1/4C2f4C4f4CzIEDxaEDh64D6rAD7LADjbYDAA==', 'AAECAYO6AgiyAq8EoIADkpcDwa4D47QDn7cDy8ADC7QB7QLNA4gHj5cD9acDua4D/q4Dqq8Dzq8DgrEDAA==', 'AAECAaCsAwjWCqCAA42CA9aZA5ObA5ibA9GlA8jAAwuXhwOClAOZmwOhoQOvpQOZqQOfqQPZrAPyrAPNrwP9sAMA'], ['AAECAa0GCNYKoIADjYID1pkDk5sDmJsD0aUDyMADC5eHA4KUA5mbA6GhA6+lA5mpA5+pA9msA/KsA82vA/2wAwA=', 'AAECAR8ExwOHBK8Eh7ADDeEElwjv8QKKrQOLrQP5rgP7rwP8rwP+rwP/sAOHsQO6tgOvtwMA', 'AAECAQcErwT7DOO0A8XAAw0WHJAD1ASd8ALcqQPYrQParQP+rgOqrwPSrwOktgOrtgMA', 'AAECAZ8FBK8ErweggAOftwMNzwaY+wL2/QLW/gLX/gLZ/gLh/gLMgQPFoQOHrgPqsAPssAONtgMA'], ['AAECAf0GCMUEnPgCoIAD/KMDkbED47QDn7cD8b8DC6MBxAidqQPlrAPorAPqrAPrrAPsrAP+rgOqrwP9sAMA', 'AAECAaa4Awgk/gGu0gL1/ALSmQP4oQPcogP2rQMLQFZfxAa/8gKpogPIogPvogPZqQP5tQPGtwMA', 'AAECAZ/HAgzWCqCAA42CA5aKA9aZA5ObA5ibA4adA9GlA9msA/2wA8jAAwmXhwOClAOZmwOhoQOvpQOZqQOfqQPyrAPNrwMA', 'AAECAYoWBK8EoIADh7ADn7cDDeEElwjv8QKKrQOLrQP5rgP8rwP+rwPnsAP/sAOHsQO6tgOvtwMA'], ['AAECAYO6AgiyAq8EoIADkpcDwa4D47QDn7cDy8ADC7QB7QLNA4gHj5cD9acDua4D/q4Dqq8Dzq8DgrEDAA==', 'AAECAR8ExwOHBK8Eh7ADDeEElwiKrQOLrQP5rgP7rwP8rwP+rwPnsAP/sAOHsQO6tgOvtwMA', 'AAECAf0EHooByQOrBMUEywThB+wHjQi+7ALO7wLu9gLG+AKggAPoiQODlgOfmwOgmwOKngP8owOLpAOSpAPypQOEpwP6rAPwrwORsQOEtgOMtgPhtgOftwMAAA==', 'AAECAaPLAwSggAOopAPjtAPFwAMNkAPUBJ3wApykA5+kA6SkA4KoA9itA9qtA/6uA6qvA9KvA6S2AwA='], ['AAECAc2xAh5NyQOrBMsE4QfsB40Izu8C7vYCxvgCoIAD6IkD7IkDg5YDoJsDip4DwqED/KMDi6QDkqQDhKcD+qwD7K8D8K8D57ADkbEDhLYDjLYD4bYDn7cDAAA=', 'AAECAaa4AwavBI3wAqCAA/atA4iwA5+3AwzhBNKlA9mpA/utA/2tA4yuA96vA+ewA/CwA/+wA4WxA/+1AwA=', 'AAECAZ/HAgbTCqCAA42CA9aZA5ObA92rAwzWCpeHA9iJA4KUA5ibA5mbA6GhA6+lA9GlA5mpA5+pA/KsAwA=', 'AAECAYO6AgqyAq8E3QiggAOSlwPBrgOCsQPjtAOftwPLwAMKtAHtAs0DiAePlwP1pwO5rgP+rgOqrwPOrwMA'], ['AAECAYO6AgiyAs0DrwSSlwPBrgOCsQPjtAPLwAMLtAHtAogHj5cD9acDua4D/q4Dqq8Dzq8Dm7YDw7YDAA==', 'AAECAQceS6IE/ASQB/8HnfACm/MC9PUCkvgCjvsCnvsCs/wCoIAD6IkD7IkDkp8Dn6EDpaED/KMDhKcD8qgD9agD2a0D360DkbED/7QDpbYDq7YDx7YDn7cDAAA=', 'AAECAf0GCMUEnPgCoIAD/KMDkbED47QDn7cD8b8DC6MBxAidqQPlrAPorAPqrAPrrAPsrAP+rgOqrwP9sAMA', 'AAECAf0EHooByQOrBMUEywThB+wHjQi+7ALO7wLu9gLG+AKggAPoiQODlgOfmwOgmwOKngP8owOLpAOSpAPypQOEpwP6rAPwrwORsQOEtgOMtgPhtgOftwMAAA==']]\n"
    }
   ],
   "source": [
    "deckStrings = dfv_round_1.values.tolist()\n",
    "print(deckStrings)"
   ]
  },
  {
   "cell_type": "code",
   "execution_count": 103,
   "metadata": {},
   "outputs": [
    {
     "name": "stdout",
     "output_type": "stream",
     "text": "156\n115\nAAECAZ/HAgiggAONggOWigOTmwOGnQODoAPdqwPZrAML1gqXhwOClAOYmwOZmwOhoQOvpQPRpQOZqQOfqQPyrAMA\n"
    }
   ],
   "source": [
    "np_deckStrings = np.array(deckStrings)\n",
    "deckStrings_new = np_deckStrings.flatten()\n",
    "print(len(deckStrings_new))\n",
    "deckStrings_new = set(deckStrings_new)\n",
    "deckStrings_new = list(deckStrings_new)\n",
    "print(len(deckStrings_new))\n",
    "print(deckStrings_new[10])"
   ]
  },
  {
   "cell_type": "code",
   "execution_count": 106,
   "metadata": {},
   "outputs": [
    {
     "name": "stdout",
     "output_type": "stream",
     "text": "ggen', 'cost': 0.0}, {'name': 'Emerald Explorer', 'cost': 6.0}, {'name': 'Emerald Explorer', 'cost': 6.0}, {'name': 'Breath of Dreams', 'cost': 2.0}, {'name': 'Breath of Dreams', 'cost': 2.0}, {'name': 'Strength in Numbers', 'cost': 1.0}, {'name': 'Strength in Numbers', 'cost': 1.0}, {'name': \"Big Ol' Whelp\", 'cost': 5.0}, {'name': \"Big Ol' Whelp\", 'cost': 5.0}, {'name': 'Evasive Feywing', 'cost': 4.0}, {'name': 'Evasive Feywing', 'cost': 4.0}, {'name': 'Evasive Wyrm', 'cost': 6.0}, {'name': 'Evasive Wyrm', 'cost': 6.0}, {'name': 'Scalerider', 'cost': 3.0}, {'name': 'Scalerider', 'cost': 3.0}, {'name': 'Winged Guardian', 'cost': 7.0}, {'name': 'Winged Guardian', 'cost': 7.0}, {'name': 'Kronx Dragonhoof', 'cost': 6.0}, {'name': 'Galakrond, the Unbreakable', 'cost': 7.0}, {'name': 'Inner Rage', 'cost': 0.0}, {'name': 'Inner Rage', 'cost': 0.0}, {'name': \"Kor'kron Elite\", 'cost': 4.0}, {'name': \"Kor'kron Elite\", 'cost': 4.0}, {'name': 'Battle Rage', 'cost': 2.0}, {'name': 'Battle Rage', 'cost': 2.0}, {'name': 'Acolyte of Pain', 'cost': 3.0}, {'name': 'Acolyte of Pain', 'cost': 3.0}, {'name': 'Town Crier', 'cost': 1.0}, {'name': 'Town Crier', 'cost': 1.0}, {'name': 'Bloodsworn Mercenary', 'cost': 3.0}, {'name': 'Bloodsworn Mercenary', 'cost': 3.0}, {'name': 'Scion of Ruin', 'cost': 4.0}, {'name': 'Scion of Ruin', 'cost': 4.0}, {'name': 'Ritual Chopper', 'cost': 2.0}, {'name': 'Ritual Chopper', 'cost': 2.0}, {'name': 'Shield of Galakrond', 'cost': 5.0}, {'name': 'Shield of Galakrond', 'cost': 5.0}, {'name': 'Devoted Maniac', 'cost': 4.0}, {'name': 'Devoted Maniac', 'cost': 4.0}, {'name': 'Awaken!', 'cost': 3.0}, {'name': 'Awaken!', 'cost': 3.0}, {'name': 'Risky Skipper', 'cost': 1.0}, {'name': 'Risky Skipper', 'cost': 1.0}, {'name': 'Bomb Wrangler', 'cost': 3.0}, {'name': 'Bomb Wrangler', 'cost': 3.0}, {'name': 'Frenzied Felwing', 'cost': 4.0}, {'name': 'Frenzied Felwing', 'cost': 4.0}, {'name': 'Kronx Dragonhoof', 'cost': 6.0}, {'name': 'Galakrond, the Wretched', 'cost': 7.0}, {'name': 'Voidwalker', 'cost': 1.0}, {'name': 'Voidwalker', 'cost': 1.0}, {'name': 'Sea Giant', 'cost': 10.0}, {'name': 'Sea Giant', 'cost': 10.0}, {'name': 'Knife Juggler', 'cost': 2.0}, {'name': 'Knife Juggler', 'cost': 2.0}, {'name': 'Flame Imp', 'cost': 1.0}, {'name': 'Flame Imp', 'cost': 1.0}, {'name': 'Grim Rally', 'cost': 1.0}, {'name': 'Grim Rally', 'cost': 1.0}, {'name': 'Scarab Egg', 'cost': 2.0}, {'name': 'Scarab Egg', 'cost': 2.0}, {'name': 'EVIL Genius', 'cost': 2.0}, {'name': 'EVIL Genius', 'cost': 2.0}, {'name': 'Beaming Sidekick', 'cost': 1.0}, {'name': 'Beaming Sidekick', 'cost': 1.0}, {'name': 'Dragonblight Cultist', 'cost': 3.0}, {'name': 'Dragonblight Cultist', 'cost': 3.0}, {'name': 'Veiled Worshipper', 'cost': 4.0}, {'name': 'Veiled Worshipper', 'cost': 4.0}, {'name': 'Blazing Battlemage', 'cost': 1.0}, {'name': 'Blazing Battlemage', 'cost': 1.0}, {'name': 'Shield of Galakrond', 'cost': 5.0}, {'name': 'Shield of Galakrond', 'cost': 5.0}, {'name': 'Fiendish Rites', 'cost': 4.0}, {'name': 'Fiendish Rites', 'cost': 4.0}, {'name': 'Faceless Corruptor', 'cost': 5.0}, {'name': 'Faceless Corruptor', 'cost': 5.0}, {'name': 'Leeroy Jenkins', 'cost': 5.0}, {'name': 'Spellbreaker', 'cost': 4.0}, {'name': 'Acidic Swamp Ooze', 'cost': 2.0}, {'name': 'Acolyte of Pain', 'cost': 3.0}, {'name': 'Zilliax', 'cost': 5.0}, {'name': 'Plague of Wrath', 'cost': 5.0}, {'name': 'Kronx Dragonhoof', 'cost': 6.0}, {'name': 'Galakrond, the Unbreakable', 'cost': 7.0}, {'name': 'Brawl', 'cost': 5.0}, {'name': 'Brawl', 'cost': 5.0}, {'name': 'Shield Slam', 'cost': 1.0}, {'name': 'Shield Slam', 'cost': 1.0}, {'name': 'Shield Block', 'cost': 3.0}, {'name': 'Shield Block', 'cost': 3.0}, {'name': 'Town Crier', 'cost': 1.0}, {'name': 'Town Crier', 'cost': 1.0}, {'name': 'Warpath', 'cost': 2.0}, {'name': 'Warpath', 'cost': 2.0}, {'name': 'Eternium Rover', 'cost': 1.0}, {'name': 'Eternium Rover', 'cost': 1.0}, {'name': 'Scion of Ruin', 'cost': 4.0}, {'name': 'Scion of Ruin', 'cost': 4.0}, {'name': 'Ritual Chopper', 'cost': 2.0}, {'name': 'Ritual Chopper', 'cost': 2.0}, {'name': 'Shield of Galakrond', 'cost': 5.0}, {'name': 'Shield of Galakrond', 'cost': 5.0}, {'name': 'Devoted Maniac', 'cost': 4.0}, {'name': 'Devoted Maniac', 'cost': 4.0}, {'name': 'Awaken!', 'cost': 3.0}, {'name': 'Awaken!', 'cost': 3.0}, {'name': 'Snake Trap', 'cost': 2.0}, {'name': 'Freezing Trap', 'cost': 2.0}, {'name': 'Leeroy Jenkins', 'cost': 5.0}, {'name': 'Lifedrinker', 'cost': 4.0}, {'name': 'Dragonbane', 'cost': 4.0}, {'name': \"Big Ol' Whelp\", 'cost': 5.0}, {'name': 'Faerie Dragon', 'cost': 2.0}, {'name': 'Faerie Dragon', 'cost': 2.0}, {'name': 'Tracking', 'cost': 1.0}, {'name': 'Tracking', 'cost': 1.0}, {'name': 'Corrosive Breath', 'cost': 2.0}, {'name': 'Corrosive Breath', 'cost': 2.0}, {'name': 'Stormhammer', 'cost': 3.0}, {'name': 'Stormhammer', 'cost': 3.0}, {'name': 'Blazing Battlemage', 'cost': 1.0}, {'name': 'Blazing Battlemage', 'cost': 1.0}, {'name': 'Phase Stalker', 'cost': 2.0}, {'name': 'Phase Stalker', 'cost': 2.0}, {'name': 'Dwarven Sharpshooter', 'cost': 1.0}, {'name': 'Dwarven Sharpshooter', 'cost': 1.0}, {'name': 'Primordial Explorer', 'cost': 3.0}, {'name': 'Primordial Explorer', 'cost': 3.0}, {'name': 'Evasive Feywing', 'cost': 4.0}, {'name': 'Evasive Feywing', 'cost': 4.0}, {'name': 'Scalerider', 'cost': 3.0}, {'name': 'Scalerider', 'cost': 3.0}, {'name': 'Frenzied Felwing', 'cost': 4.0}, {'name': 'Frenzied Felwing', 'cost': 4.0}, {'name': 'Rotnest Drake', 'cost': 5.0}, {'name': 'Rotnest Drake', 'cost': 5.0}, {'name': 'Leeroy Jenkins', 'cost': 5.0}, {'name': 'Blessing of Wisdom', 'cost': 1.0}, {'name': 'Zilliax', 'cost': 5.0}, {'name': 'SN1P-SN4P', 'cost': 3.0}, {'name': 'Truesilver Champion', 'cost': 4.0}, {'name': 'Truesilver Champion', 'cost': 4.0}, {'name': 'Blessing of Kings', 'cost': 4.0}, {'name': 'Blessing of Kings', 'cost': 4.0}, {'name': 'Replicating Menace', 'cost': 4.0}, {'name': 'Replicating Menace', 'cost': 4.0}, {'name': 'Mecharoo', 'cost': 1.0}, {'name': 'Mecharoo', 'cost': 1.0}, {'name': 'Glow-Tron', 'cost': 1.0}, {'name': 'Glow-Tron', 'cost': 1.0}, {'name': 'Galvanizer', 'cost': 2.0}, {'name': 'Galvanizer', 'cost': 2.0}, {'name': 'Crystology', 'cost': 1.0}, {'name': 'Crystology', 'cost': 1.0}, {'name': 'Annoy-o-Module', 'cost': 4.0}, {'name': 'Annoy-o-Module', 'cost': 4.0}, {'name': 'Wargear', 'cost': 5.0}, {'name': 'Wargear', 'cost': 5.0}, {'name': 'Micro Mummy', 'cost': 2.0}, {'name': 'Micro Mummy', 'cost': 2.0}, {'name': 'Sky Claw', 'cost': 3.0}, {'name': 'Sky Claw', 'cost': 3.0}, {'name': 'Hot Air Balloon', 'cost': 1.0}, {'name': 'Hot Air Balloon', 'cost': 1.0}, {'name': 'Goboglide Tech', 'cost': 3.0}, {'name': 'Goboglide Tech', 'cost': 3.0}, {'name': 'Malygos', 'cost': 9.0}, {'name': 'Alexstrasza', 'cost': 9.0}, {'name': 'Bloodmage Thalnos', 'cost': 2.0}, {'name': 'Lord Godfrey', 'cost': 7.0}, {'name': 'Zilliax', 'cost': 5.0}, {'name': 'Valdris Felgorge', 'cost': 7.0}, {'name': 'Zzeraku the Warped', 'cost': 8.0}, {'name': 'Frizz Kindleroost', 'cost': 4.0}, {'name': 'Doomsayer', 'cost': 2.0}, {'name': 'Doomsayer', 'cost': 2.0}, {'name': 'Spellbreaker', 'cost': 4.0}, {'name': 'Spellbreaker', 'cost': 4.0}, {'name': 'Soulfire', 'cost': 1.0}, {'name': 'Soulfire', 'cost': 1.0}, {'name': 'Mountain Giant', 'cost': 12.0}, {'name': 'Mountain Giant', 'cost': 12.0}, {'name': 'Twilight Drake', 'cost': 4.0}, {'name': 'Twilight Drake', 'cost': 4.0}, {'name': 'Mortal Coil', 'cost': 1.0}, {'name': 'Mortal Coil', 'cost': 1.0}, {'name': 'Crazed Netherwing', 'cost': 5.0}, {'name': 'Crazed Netherwing', 'cost': 5.0}, {'name': 'Dark Skies', 'cost': 3.0}, {'name': 'Dark Skies', 'cost': 3.0}, {'name': 'Nether Breath', 'cost': 2.0}, {'name': 'Nether Breath', 'cost': 2.0}, {'name': 'Abyssal Summoner', 'cost': 6.0}, {'name': 'Abyssal Summoner', 'cost': 6.0}, {'name': 'Scalerider', 'cost': 3.0}, {'name': 'Scalerider', 'cost': 3.0}, {'name': 'Kill Command', 'cost': 3.0}, {'name': 'Animal Companion', 'cost': 3.0}, {'name': 'Leeroy Jenkins', 'cost': 5.0}, {'name': 'Faerie Dragon', 'cost': 2.0}, {'name': 'Tracking', 'cost': 1.0}, {'name': 'Unleash the Hounds', 'cost': 3.0}, {'name': 'Zilliax', 'cost': 5.0}, {'name': 'Springpaw', 'cost': 1.0}, {'name': 'Ursatron', 'cost': 3.0}, {'name': 'Zephrys the Great', 'cost': 2.0}, {'name': 'Desert Spear', 'cost': 3.0}, {'name': 'Dinotamer Brann', 'cost': 7.0}, {'name': \"Injured Tol'vir\", 'cost': 2.0}, {'name': 'Siamat', 'cost': 7.0}, {'name': 'Corrosive Breath', 'cost': 2.0}, {'name': 'Stormhammer', 'cost': 3.0}, {'name': 'Diving Gryphon', 'cost': 3.0}, {'name': 'Blazing Battlemage', 'cost': 1.0}, {'name': 'Dwarven Sharpshooter', 'cost': 1.0}, {'name': 'Primordial Explorer', 'cost': 3.0}, {'name': 'Dragonbane', 'cost': 4.0}, {'name': 'Evasive Feywing', 'cost': 4.0}, {'name': 'Faceless Corruptor', 'cost': 5.0}, {'name': 'Dragonqueen Alexstrasza', 'cost': 9.0}, {'name': 'Veranus', 'cost': 6.0}, {'name': 'Escaped Manasaber', 'cost': 4.0}, {'name': 'Frenzied Felwing', 'cost': 4.0}, {'name': 'Boompistol Bully', 'cost': 5.0}, {'name': 'SN1P-SN4P', 'cost': 3.0}, {'name': 'Rotnest Drake', 'cost': 5.0}, {'name': 'Edwin VanCleef', 'cost': 3.0}, {'name': 'Leeroy Jenkins', 'cost': 5.0}, {'name': 'Heistbaron Togwaggle', 'cost': 6.0}, {'name': 'Flik Skyshiv', 'cost': 6.0}, {'name': 'Kronx Dragonhoof', 'cost': 6.0}, {'name': 'Galakrond, the Nightmare', 'cost': 7.0}, {'name': 'Backstab', 'cost': 0.0}, {'name': 'Backstab', 'cost': 0.0}, {'name': 'Shadowstep', 'cost': 0.0}, {'name': 'Shadowstep', 'cost': 0.0}, {'name': 'Sap', 'cost': 2.0}, {'name': 'Sap', 'cost': 2.0}, {'name': 'Eviscerate', 'cost': 2.0}, {'name': 'Eviscerate', 'cost': 2.0}, {'name': 'SI:7 Agent', 'cost': 3.0}, {'name': 'SI:7 Agent', 'cost': 3.0}, {'name': 'EVIL Miscreant', 'cost': 3.0}, {'name': 'EVIL Miscreant', 'cost': 3.0}, {'name': 'Pharaoh Cat', 'cost': 1.0}, {'name': 'Pharaoh Cat', 'cost': 1.0}, {'name': 'Praise Galakrond!', 'cost': 1.0}, {'name': 'Praise Galakrond!', 'cost': 1.0}, {'name': 'Shield of Galakrond', 'cost': 5.0}, {'name': 'Shield of Galakrond', 'cost': 5.0}, {'name': 'Devoted Maniac', 'cost': 4.0}, {'name': 'Devoted Maniac', 'cost': 4.0}, {'name': 'Seal Fate', 'cost': 3.0}, {'name': 'Seal Fate', 'cost': 3.0}, {'name': 'Faceless Corruptor', 'cost': 5.0}, {'name': 'Faceless Corruptor', 'cost': 5.0}, {'name': 'Kill Command', 'cost': 3.0}, {'name': 'Animal Companion', 'cost': 3.0}, {'name': 'Leeroy Jenkins', 'cost': 5.0}, {'name': 'Faerie Dragon', 'cost': 2.0}, {'name': 'Tracking', 'cost': 1.0}, {'name': 'Unleash the Hounds', 'cost': 3.0}, {'name': 'Zilliax', 'cost': 5.0}, {'name': 'Springpaw', 'cost': 1.0}, {'name': 'Ursatron', 'cost': 3.0}, {'name': 'Zephrys the Great', 'cost': 2.0}, {'name': 'Desert Spear', 'cost': 3.0}, {'name': 'Dinotamer Brann', 'cost': 7.0}, {'name': \"Injured Tol'vir\", 'cost': 2.0}, {'name': 'Siamat', 'cost': 7.0}, {'name': 'Corrosive Breath', 'cost': 2.0}, {'name': 'Stormhammer', 'cost': 3.0}, {'name': 'Diving Gryphon', 'cost': 3.0}, {'name': 'Blazing Battlemage', 'cost': 1.0}, {'name': 'Dwarven Sharpshooter', 'cost': 1.0}, {'name': 'Primordial Explorer', 'cost': 3.0}, {'name': 'Dragonbane', 'cost': 4.0}, {'name': 'Evasive Feywing', 'cost': 4.0}, {'name': 'Faceless Corruptor', 'cost': 5.0}, {'name': 'Dragonqueen Alexstrasza', 'cost': 9.0}, {'name': 'Veranus', 'cost': 6.0}, {'name': 'Escaped Manasaber', 'cost': 4.0}, {'name': 'Frenzied Felwing', 'cost': 4.0}, {'name': 'Boompistol Bully', 'cost': 5.0}, {'name': 'SN1P-SN4P', 'cost': 3.0}, {'name': 'Rotnest Drake', 'cost': 5.0}, {'name': 'Leeroy Jenkins', 'cost': 5.0}, {'name': 'Kronx Dragonhoof', 'cost': 6.0}, {'name': 'SN1P-SN4P', 'cost': 3.0}, {'name': 'Galakrond, the Unbreakable', 'cost': 7.0}, {'name': 'Inner Rage', 'cost': 0.0}, {'name': 'Inner Rage', 'cost': 0.0}, {'name': 'Armorsmith', 'cost': 2.0}, {'name': 'Armorsmith', 'cost': 2.0}, {'name': 'Acolyte of Pain', 'cost': 3.0}, {'name': 'Acolyte of Pain', 'cost': 3.0}, {'name': 'Town Crier', 'cost': 1.0}, {'name': 'Town Crier', 'cost': 1.0}, {'name': 'Eternium Rover', 'cost': 1.0}, {'name': 'Eternium Rover', 'cost': 1.0}, {'name': 'Bloodsworn Mercenary', 'cost': 3.0}, {'name': 'Bloodsworn Mercenary', 'cost': 3.0}, {'name': 'Scion of Ruin', 'cost': 4.0}, {'name': 'Scion of Ruin', 'cost': 4.0}, {'name': 'Ritual Chopper', 'cost': 2.0}, {'name': 'Ritual Chopper', 'cost': 2.0}, {'name': 'Shield of Galakrond', 'cost': 5.0}, {'name': 'Shield of Galakrond', 'cost': 5.0}, {'name': 'Devoted Maniac', 'cost': 4.0}, {'name': 'Devoted Maniac', 'cost': 4.0}, {'name': 'Awaken!', 'cost': 3.0}, {'name': 'Awaken!', 'cost': 3.0}, {'name': 'Risky Skipper', 'cost': 1.0}, {'name': 'Risky Skipper', 'cost': 1.0}, {'name': 'Bomb Wrangler', 'cost': 3.0}, {'name': 'Bomb Wrangler', 'cost': 3.0}, {'name': 'Leeroy Jenkins', 'cost': 5.0}, {'name': 'Zilliax', 'cost': 5.0}, {'name': 'Wargear', 'cost': 5.0}, {'name': 'SN1P-SN4P', 'cost': 3.0}, {'name': 'Truesilver Champion', 'cost': 4.0}, {'name': 'Truesilver Champion', 'cost': 4.0}, {'name': 'Blessing of Kings', 'cost': 4.0}, {'name': 'Blessing of Kings', 'cost': 4.0}, {'name': 'Replicating Menace', 'cost': 4.0}, {'name': 'Replicating Menace', 'cost': 4.0}, {'name': 'Mecharoo', 'cost': 1.0}, {'name': 'Mecharoo', 'cost': 1.0}, {'name': 'Glow-Tron', 'cost': 1.0}, {'name': 'Glow-Tron', 'cost': 1.0}, {'name': 'Galvanizer', 'cost': 2.0}, {'name': 'Galvanizer', 'cost': 2.0}, {'name': 'Crystology', 'cost': 1.0}, {'name': 'Crystology', 'cost': 1.0}, {'name': 'Annoy-o-Module', 'cost': 4.0}, {'name': 'Annoy-o-Module', 'cost': 4.0}, {'name': 'Micro Mummy', 'cost': 2.0}, {'name': 'Micro Mummy', 'cost': 2.0}, {'name': 'Sky Claw', 'cost': 3.0}, {'name': 'Sky Claw', 'cost': 3.0}, {'name': 'Hot Air Balloon', 'cost': 1.0}, {'name': 'Hot Air Balloon', 'cost': 1.0}, {'name': 'Goboglide Tech', 'cost': 3.0}, {'name': 'Goboglide Tech', 'cost': 3.0}, {'name': 'Shotbot', 'cost': 2.0}, {'name': 'Shotbot', 'cost': 2.0}, {'name': 'Cenarius', 'cost': 9.0}, {'name': 'Acidic Swamp Ooze', 'cost': 2.0}, {'name': 'Wardruid Loti', 'cost': 3.0}, {'name': 'Flobbidinous Floop', 'cost': 4.0}, {'name': 'Untapped Potential', 'cost': 1.0}, {'name': 'Ysera, Unleashed', 'cost': 9.0}, {'name': 'Swipe', 'cost': 4.0}, {'name': 'Swipe', 'cost': 4.0}, {'name': 'Starfall', 'cost': 5.0}, {'name': 'Starfall', 'cost': 5.0}, {'name': 'Nourish', 'cost': 6.0}, {'name': 'Nourish', 'cost': 6.0}, {'name': 'Innervate', 'cost': 0.0}, {'name': 'Innervate', 'cost': 0.0}, {'name': 'Wrath', 'cost': 2.0}, {'name': 'Wrath', 'cost': 2.0}, {'name': 'Ferocious Howl', 'cost': 3.0}, {'name': 'Ferocious Howl', 'cost': 3.0}, {'name': 'Crystal Merchant', 'cost': 2.0}, {'name': 'Crystal Merchant', 'cost': 2.0}, {'name': 'Hidden Oasis', 'cost': 6.0}, {'name': 'Hidden Oasis', 'cost': 6.0}, {'name': 'Anubisath Defender', 'cost': 5.0}, {'name': 'Anubisath Defender', 'cost': 5.0}, {'name': 'Oasis Surger', 'cost': 5.0}, {'name': 'Oasis Surger', 'cost': 5.0}, {'name': 'Rising Winds', 'cost': 2.0}, {'name': 'Rising Winds', 'cost': 2.0}, {'name': 'Steel Beetle', 'cost': 2.0}, {'name': 'Steel Beetle', 'cost': 2.0}, {'name': 'Brawl', 'cost': 5.0}, {'name': 'Shield Slam', 'cost': 1.0}, {'name': 'Whirlwind', 'cost': 1.0}, {'name': 'Harrison Jones', 'cost': 5.0}, {'name': 'Shield Block', 'cost': 3.0}, {'name': 'The Black Knight', 'cost': 6.0}, {'name': 'Big Game Hunter', 'cost': 5.0}, {'name': 'Town Crier', 'cost': 1.0}, {'name': 'Warpath', 'cost': 2.0}, {'name': 'Weapons Project', 'cost': 2.0}, {'name': 'Dr. Boom, Mad Genius', 'cost': 9.0}, {'name': 'Supercollider', 'cost': 5.0}, {'name': 'Dyn-o-matic', 'cost': 5.0}, {'name': 'Eternium Rover', 'cost': 1.0}, {'name': 'Zilliax', 'cost': 5.0}, {'name': 'Emberscale Drake', 'cost': 5.0}, {'name': 'Dragonmaw Scorcher', 'cost': 5.0}, {'name': 'Omega Devastator', 'cost': 4.0}, {'name': 'Restless Mummy', 'cost': 4.0}, {'name': 'Zephrys the Great', 'cost': 2.0}, {'name': 'Siamat', 'cost': 7.0}, {'name': 'Frightened Flunky', 'cost': 2.0}, {'name': 'Plague of Wrath', 'cost': 5.0}, {'name': 'Livewire Lance', 'cost': 3.0}, {'name': 'EVIL Quartermaster', 'cost': 3.0}, {'name': 'Deathwing, Mad Aspect', 'cost': 8.0}, {'name': 'Bad Luck Albatross', 'cost': 3.0}, {'name': 'Dragonqueen Alexstrasza', 'cost': 9.0}, {'name': 'Molten Breath', 'cost': 4.0}, {'name': 'SN1P-SN4P', 'cost': 3.0}, {'name': 'Leeroy Jenkins', 'cost': 5.0}, {'name': 'Temple Berserker', 'cost': 2.0}, {'name': 'Kronx Dragonhoof', 'cost': 6.0}, {'name': 'Galakrond, the Unbreakable', 'cost': 7.0}, {'name': 'Inner Rage', 'cost': 0.0}, {'name': 'Inner Rage', 'cost': 0.0}, {'name': 'Battle Rage', 'cost': 2.0}, {'name': 'Battle Rage', 'cost': 2.0}, {'name': 'Armorsmith', 'cost': 2.0}, {'name': 'Armorsmith', 'cost': 2.0}, {'name': 'Acolyte of Pain', 'cost': 3.0}, {'name': 'Acolyte of Pain', 'cost': 3.0}, {'name': 'Town Crier', 'cost': 1.0}, {'name': 'Town Crier', 'cost': 1.0}, {'name': 'Bloodsworn Mercenary', 'cost': 3.0}, {'name': 'Bloodsworn Mercenary', 'cost': 3.0}, {'name': 'Scion of Ruin', 'cost': 4.0}, {'name': 'Scion of Ruin', 'cost': 4.0}, {'name': 'Ritual Chopper', 'cost': 2.0}, {'name': 'Ritual Chopper', 'cost': 2.0}, {'name': 'Shield of Galakrond', 'cost': 5.0}, {'name': 'Shield of Galakrond', 'cost': 5.0}, {'name': 'Devoted Maniac', 'cost': 4.0}, {'name': 'Devoted Maniac', 'cost': 4.0}, {'name': 'Awaken!', 'cost': 3.0}, {'name': 'Awaken!', 'cost': 3.0}, {'name': 'Risky Skipper', 'cost': 1.0}, {'name': 'Risky Skipper', 'cost': 1.0}, {'name': 'Bomb Wrangler', 'cost': 3.0}, {'name': 'Bomb Wrangler', 'cost': 3.0}, {'name': 'Doomsayer', 'cost': 2.0}, {'name': 'Blizzard', 'cost': 6.0}, {'name': 'Arcane Intellect', 'cost': 3.0}, {'name': 'Alexstrasza', 'cost': 9.0}, {'name': 'Frost Nova', 'cost': 3.0}, {'name': 'Mountain Giant', 'cost': 12.0}, {'name': 'Flamestrike', 'cost': 7.0}, {'name': 'Twilight Drake', 'cost': 4.0}, {'name': 'Arcane Keysmith', 'cost': 4.0}, {'name': 'Book of Specters', 'cost': 2.0}, {'name': 'Stargazer Luna', 'cost': 3.0}, {'name': \"Luna's Pocket Galaxy\", 'cost': 7.0}, {'name': 'Zilliax', 'cost': 5.0}, {'name': 'Firetree Witchdoctor', 'cost': 2.0}, {'name': \"Conjurer's Calling\", 'cost': 4.0}, {'name': 'Ray of Frost', 'cost': 1.0}, {'name': 'Power of Creation', 'cost': 8.0}, {'name': 'Kalecgos', 'cost': 10.0}, {'name': 'Puzzle Box of Yogg-Saron', 'cost': 10.0}, {'name': 'Zephrys the Great', 'cost': 2.0}, {'name': 'Tortollan Pilgrim', 'cost': 8.0}, {'name': 'Reno the Relicologist', 'cost': 6.0}, {'name': 'Siamat', 'cost': 7.0}, {'name': 'Azure Explorer', 'cost': 4.0}, {'name': 'Arcane Breath', 'cost': 1.0}, {'name': 'Dragoncaster', 'cost': 6.0}, {'name': 'Dragonqueen Alexstrasza', 'cost': 9.0}, {'name': 'The Amazing Reno', 'cost': 10.0}, {'name': 'Malygos, Aspect of Magic', 'cost': 5.0}, {'name': 'SN1P-SN4P', 'cost': 3.0}, {'name': 'Kill Command', 'cost': 3.0}, {'name': 'Animal Companion', 'cost': 3.0}, {'name': 'Snake Trap', 'cost': 2.0}, {'name': 'Leeroy Jenkins', 'cost': 5.0}, {'name': 'Explosive Trap', 'cost': 2.0}, {'name': 'Faerie Dragon', 'cost': 2.0}, {'name': 'Tracking', 'cost': 1.0}, {'name': 'Deadly Shot', 'cost': 3.0}, {'name': 'Unleash the Hounds', 'cost': 3.0}, {'name': 'Rat Trap', 'cost': 2.0}, {'name': 'Lifedrinker', 'cost': 4.0}, {'name': 'Zilliax', 'cost': 5.0}, {'name': 'Springpaw', 'cost': 1.0}, {'name': 'Ursatron', 'cost': 3.0}, {'name': 'Zephrys the Great', 'cost': 2.0}, {'name': 'Desert Spear', 'cost': 3.0}, {'name': 'Dinotamer Brann', 'cost': 7.0}, {'name': 'Siamat', 'cost': 7.0}, {'name': 'Stormhammer', 'cost': 3.0}, {'name': 'Diving Gryphon', 'cost': 3.0}, {'name': 'Blazing Battlemage', 'cost': 1.0}, {'name': 'Phase Stalker', 'cost': 2.0}, {'name': 'Dwarven Sharpshooter', 'cost': 1.0}, {'name': 'Primordial Explorer', 'cost': 3.0}, {'name': 'Dragonbane', 'cost': 4.0}, {'name': \"Big Ol' Whelp\", 'cost': 5.0}, {'name': 'Faceless Corruptor', 'cost': 5.0}, {'name': 'Dragonqueen Alexstrasza', 'cost': 9.0}, {'name': 'Veranus', 'cost': 6.0}, {'name': 'SN1P-SN4P', 'cost': 3.0}]\n"
    }
   ],
   "source": [
    "all_lists = []\n",
    "for i in range(len(deckStrings_new)):\n",
    "    deck = Deck.from_deckstring(deckStrings_new[i])\n",
    "    card_ids = deck.cards\n",
    "    names = []\n",
    "\n",
    "    for item in card_ids:\n",
    "        quant = item[1]\n",
    "        for i in range(quant):\n",
    "            all_lists.append(cards_dict[item[0]])\n",
    "    print('deck done')\n",
    "print(all_lists)"
   ]
  },
  {
   "cell_type": "code",
   "execution_count": null,
   "metadata": {},
   "outputs": [],
   "source": []
  }
 ]
}