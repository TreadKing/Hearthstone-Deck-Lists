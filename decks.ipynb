{
 "nbformat": 4,
 "nbformat_minor": 2,
 "metadata": {
  "language_info": {
   "name": "python",
   "codemirror_mode": {
    "name": "ipython",
    "version": 2
   },
   "version": "3.7.4-final"
  },
  "orig_nbformat": 2,
  "file_extension": ".py",
  "mimetype": "text/x-python",
  "name": "python",
  "npconvert_exporter": "python",
  "pygments_lexer": "ipython2",
  "version": 2,
  "kernelspec": {
   "name": "python37464bitbaseconda01edcb9ffc324c9582e19d9be8c8b36c",
   "display_name": "Python 3.7.4 64-bit ('base': conda)"
  }
 },
 "cells": [
  {
   "cell_type": "code",
   "execution_count": 63,
   "metadata": {},
   "outputs": [],
   "source": [
    "from hearthstone.deckstrings import Deck\n",
    "from hearthstone.deckstrings import FormatType\n",
    "import json\n",
    "import pandas as pd\n",
    "import numpy as np"
   ]
  },
  {
   "cell_type": "code",
   "execution_count": 73,
   "metadata": {},
   "outputs": [
    {
     "name": "stdout",
     "output_type": "stream",
     "text": "[(754, 1), (38318, 1), (40596, 1), (41081, 1), (42818, 1), (43417, 1), (64, 2), (95, 2), (254, 2), (836, 2), (1124, 2), (40372, 2), (40523, 2), (40527, 2), (40797, 2), (41929, 2), (42656, 2), (42759, 2)]\n"
    }
   ],
   "source": [
    "deckstring = 'AAECAZICBvIFrqsClL0C+cACws4CmdMCDEBf/gHEBuQItLsCy7wCz7wC3b4CyccCoM0Ch84CAA=='\n",
    "deck = Deck.from_deckstring(deckstring)\n",
    "print(deck.cards)\n"
   ]
  },
  {
   "cell_type": "code",
   "execution_count": null,
   "metadata": {},
   "outputs": [],
   "source": [
    "json_data = json.loads(open('cards.json').read())\n",
    "\n",
    "print(json_data)"
   ]
  },
  {
   "cell_type": "code",
   "execution_count": null,
   "metadata": {},
   "outputs": [],
   "source": [
    "cards_df = pd.read_json('cards.json')\n",
    "cards_df.head()"
   ]
  },
  {
   "cell_type": "code",
   "execution_count": null,
   "metadata": {},
   "outputs": [],
   "source": [
    "cards_df_new = cards_df[['id','dbfId','cost','name']]\n",
    "cards_df_new.head()"
   ]
  },
  {
   "cell_type": "code",
   "execution_count": null,
   "metadata": {},
   "outputs": [],
   "source": [
    "col_list = []\n",
    "for (name, series) in cards_df_new.iteritems():\n",
    "    #if series.dtype != 'object' and name != 'origin':\n",
    "        col_list.append(name)\n",
    "\n",
    "print(col_list)"
   ]
  },
  {
   "cell_type": "code",
   "execution_count": null,
   "metadata": {},
   "outputs": [],
   "source": [
    "cards_dict = {}\n",
    "card_df_names = cards_df[['dbfId','name','cost']]\n",
    "cards_dict = card_df_names.set_index('dbfId').T.to_dict()"
   ]
  },
  {
   "cell_type": "code",
   "execution_count": null,
   "metadata": {},
   "outputs": [],
   "source": [
    "card_df_names.info()"
   ]
  },
  {
   "cell_type": "code",
   "execution_count": 72,
   "metadata": {},
   "outputs": [
    {
     "name": "stdout",
     "output_type": "stream",
     "text": "{'name': 'Flame Lance', 'cost': 5.0}\n"
    }
   ],
   "source": [
    "# for x in cards_dict:\n",
    "#     print(cards_dict[x])\n",
    "print(cards_dict[2539])"
   ]
  },
  {
   "cell_type": "code",
   "execution_count": 59,
   "metadata": {},
   "outputs": [
    {
     "data": {
      "text/html": "<div>\n<style scoped>\n    .dataframe tbody tr th:only-of-type {\n        vertical-align: middle;\n    }\n\n    .dataframe tbody tr th {\n        vertical-align: top;\n    }\n\n    .dataframe thead th {\n        text-align: right;\n    }\n</style>\n<table border=\"1\" class=\"dataframe\">\n  <thead>\n    <tr style=\"text-align: right;\">\n      <th></th>\n      <th>Team ID</th>\n      <th>Team Name</th>\n      <th>Deck 1</th>\n      <th>Deck 2</th>\n      <th>Deck 3</th>\n      <th>Deck 4</th>\n    </tr>\n  </thead>\n  <tbody>\n    <tr>\n      <td>0</td>\n      <td>34093676.0</td>\n      <td>St. Edward's Varsity</td>\n      <td>AAECAZfDAx5LogT8BJAH/wf4DPkMnfACm/MC9PUCkvgCjv...</td>\n      <td>AAECAZICBiSKB67SAvX8AvihA/atAwxAVl/+AcQGv/ICqa...</td>\n      <td>AAECAZ8FBK8E8gWggAOftwMNzwavB5j7Avb9Atb+Atf+At...</td>\n      <td>AAECAafDAwjWCqCAA42CA9aZA5ObA5ibA9msA8jAAwuXhw...</td>\n    </tr>\n    <tr>\n      <td>1</td>\n      <td>34094247.0</td>\n      <td>Durham Lords E-sports</td>\n      <td>AAECAR8EhwSvBMkEh7ADDccD4QSXCO/xAoqtA4utA/muA/...</td>\n      <td>AAECAf0EHk2KAbsCyQOrBMUEywThB+wHjQjO7wLG+AKggA...</td>\n      <td>AAECAaIHCrICrwTdCK+RA5KXA7muA8GuA4KxA+O0A8vAAw...</td>\n      <td>AAECAa0GCNMK1grXCqCAA42CA9aZA5ObA92rAwuXhwOClA...</td>\n    </tr>\n    <tr>\n      <td>2</td>\n      <td>34097773.0</td>\n      <td>U of U Esports</td>\n      <td>AAECAZ/HAgqlCdMKoIADjYIDk5sDmJsD0aUD8qUD47QDyM...</td>\n      <td>AAECAaHDAwgkrtIC9fwC2KAD+KEDqaID3KID9q0DC0BWX/...</td>\n      <td>AAECAaIHDLICzQOvBKCAA5KXA8GuA6qvA+O0A5u2A8O2A5...</td>\n      <td>AAECAZfDAwSvBOO0A5+3A8XAAw0WkAPUBPsMnfAC3KkD2K...</td>\n    </tr>\n    <tr>\n      <td>3</td>\n      <td>34098158.0</td>\n      <td>UPIKE Esports</td>\n      <td>AAECAYO6AgiyAq8EoIADkpcDwa4D47QDn7cDy8ADC7QB7Q...</td>\n      <td>AAECAYoWAq8Eh7ADDscD4QSXCIqtA4utA/muA/uvA/yvA/...</td>\n      <td>AAECAf0EHk2KAckDqwTFBMsE7AeNCM7vAu72AqCAA4OWA5...</td>\n      <td>AAECAaPLAwadApADrwTjtAOftwPFwAMMFhyd8AKz/AL0pw...</td>\n    </tr>\n    <tr>\n      <td>4</td>\n      <td>34098611.0</td>\n      <td>UNT Mean Green</td>\n      <td>AAECAa/XAwbHA4cErwTv8QKHsAPnsAMM4QSXCIqtA4utA/...</td>\n      <td>AAECAaIHBrICrwSSlwPBrgPjtAPLwAMMtAHtAs0DiAfdCI...</td>\n      <td>AAECAYsWBK8EoIADzIEDn7cDDc8GrweY+wL2/QLW/gLX/g...</td>\n      <td>AAECAaa4Awok/gH3A67SAvX8AsX9AvihA6miA6+iA/atAw...</td>\n    </tr>\n  </tbody>\n</table>\n</div>",
      "text/plain": "      Team ID              Team Name  \\\n0  34093676.0   St. Edward's Varsity   \n1  34094247.0  Durham Lords E-sports   \n2  34097773.0         U of U Esports   \n3  34098158.0          UPIKE Esports   \n4  34098611.0         UNT Mean Green   \n\n                                              Deck 1  \\\n0  AAECAZfDAx5LogT8BJAH/wf4DPkMnfACm/MC9PUCkvgCjv...   \n1  AAECAR8EhwSvBMkEh7ADDccD4QSXCO/xAoqtA4utA/muA/...   \n2  AAECAZ/HAgqlCdMKoIADjYIDk5sDmJsD0aUD8qUD47QDyM...   \n3  AAECAYO6AgiyAq8EoIADkpcDwa4D47QDn7cDy8ADC7QB7Q...   \n4  AAECAa/XAwbHA4cErwTv8QKHsAPnsAMM4QSXCIqtA4utA/...   \n\n                                              Deck 2  \\\n0  AAECAZICBiSKB67SAvX8AvihA/atAwxAVl/+AcQGv/ICqa...   \n1  AAECAf0EHk2KAbsCyQOrBMUEywThB+wHjQjO7wLG+AKggA...   \n2  AAECAaHDAwgkrtIC9fwC2KAD+KEDqaID3KID9q0DC0BWX/...   \n3  AAECAYoWAq8Eh7ADDscD4QSXCIqtA4utA/muA/uvA/yvA/...   \n4  AAECAaIHBrICrwSSlwPBrgPjtAPLwAMMtAHtAs0DiAfdCI...   \n\n                                              Deck 3  \\\n0  AAECAZ8FBK8E8gWggAOftwMNzwavB5j7Avb9Atb+Atf+At...   \n1  AAECAaIHCrICrwTdCK+RA5KXA7muA8GuA4KxA+O0A8vAAw...   \n2  AAECAaIHDLICzQOvBKCAA5KXA8GuA6qvA+O0A5u2A8O2A5...   \n3  AAECAf0EHk2KAckDqwTFBMsE7AeNCM7vAu72AqCAA4OWA5...   \n4  AAECAYsWBK8EoIADzIEDn7cDDc8GrweY+wL2/QLW/gLX/g...   \n\n                                              Deck 4  \n0  AAECAafDAwjWCqCAA42CA9aZA5ObA5ibA9msA8jAAwuXhw...  \n1  AAECAa0GCNMK1grXCqCAA42CA9aZA5ObA92rAwuXhwOClA...  \n2  AAECAZfDAwSvBOO0A5+3A8XAAw0WkAPUBPsMnfAC3KkD2K...  \n3  AAECAaPLAwadApADrwTjtAOftwPFwAMMFhyd8AKz/AL0pw...  \n4  AAECAaa4Awok/gH3A67SAvX8AsX9AvihA6miA6+iA/atAw...  "
     },
     "execution_count": 59,
     "metadata": {},
     "output_type": "execute_result"
    }
   ],
   "source": [
    "dfv_round_1 = pd.read_csv('Varsity round 1 decks.csv')\n",
    "dfv_round_1.head()"
   ]
  },
  {
   "cell_type": "code",
   "execution_count": 60,
   "metadata": {},
   "outputs": [],
   "source": [
    "dfv_round_1 = dfv_round_1[['Deck 1','Deck 2', 'Deck 3', 'Deck 4']]"
   ]
  },
  {
   "cell_type": "code",
   "execution_count": 61,
   "metadata": {},
   "outputs": [
    {
     "name": "stdout",
     "output_type": "stream",
     "text": "[['AAECAZfDAx5LogT8BJAH/wf4DPkMnfACm/MC9PUCkvgCjvsCnvsCs/wCoIADgYcD7IkDkp8Dn6ED/KMDhKcDgqgD8qgD9agD2a0D360D/bADkbED/7QDn7cDAAA=', 'AAECAZICBiSKB67SAvX8AvihA/atAwxAVl/+AcQGv/ICqaIDyKID76ID2akD+bUDxrcDAA==', 'AAECAZ8FBK8E8gWggAOftwMNzwavB5j7Avb9Atb+Atf+Atn+AuH+AsyBA8WhA4euA+qwA+ywAwA=', 'AAECAafDAwjWCqCAA42CA9aZA5ObA5ibA9msA8jAAwuXhwOClAOZmwOhoQOvpQPRpQOZqQOfqQPyrAPNrwP9sAMA'], ['AAECAR8EhwSvBMkEh7ADDccD4QSXCO/xAoqtA4utA/muA/uvA/yvA/6vA/+wA4exA6+3AwA=', 'AAECAf0EHk2KAbsCyQOrBMUEywThB+wHjQjO7wLG+AKggAPoiQODlgOfmwOgmwOKngOhoQP8owOLpAOSpAPypQP6rAPwrwOHsQORsQOMtgPhtgOftwMAAA==', 'AAECAaIHCrICrwTdCK+RA5KXA7muA8GuA4KxA+O0A8vAAwq0Ae0CzQOIB+/xAo+XA/WnA/6uA6qvA86vAwA=', 'AAECAa0GCNMK1grXCqCAA42CA9aZA5ObA92rAwuXhwOClAOYmwOZmwODoAOhoQOvpQPRpQOZqQOfqQPyrAMA'], ['AAECAZ/HAgqlCdMKoIADjYIDk5sDmJsD0aUD8qUD47QDyMADCpeHA4KUA5mbA6GhA6+lA5mpA5+pA9msA/KsA/2wAwA=', 'AAECAaHDAwgkrtIC9fwC2KAD+KEDqaID3KID9q0DC0BWX/4BxAa/8gLIogPvogPZqQP5tQPGtwMA', 'AAECAaIHDLICzQOvBKCAA5KXA8GuA6qvA+O0A5u2A8O2A5+3A8vAAwm0Ae0CiAePlwP1pwO5rgP+rgPOrwOCsQMA', 'AAECAZfDAwSvBOO0A5+3A8XAAw0WkAPUBPsMnfAC3KkD2K0D2q0D/q4Dqq8D0q8DpLYDq7YDAA=='], ['AAECAYO6AgiyAq8EoIADkpcDwa4D47QDn7cDy8ADC7QB7QLNA4gHj5cD9acDua4D/q4Dqq8Dzq8DgrEDAA==', 'AAECAYoWAq8Eh7ADDscD4QSXCIqtA4utA/muA/uvA/yvA/6vA+ewA/+wA4exA7q2A6+3AwA=', 'AAECAf0EHk2KAckDqwTFBMsE7AeNCM7vAu72AqCAA4OWA5+bA6CbA4qeA6GhA/yjA5KkA/KlA4SnA/qsA/CvA4iwA+ewA4exA5GxA4i2A4y2A+G2A5+3AwAA', 'AAECAaPLAwadApADrwTjtAOftwPFwAMMFhyd8AKz/AL0pwPcqQPYrQParQP+rgOqrwPSrwOrtgMA'], ['AAECAa/XAwbHA4cErwTv8QKHsAPnsAMM4QSXCIqtA4utA/muA/uvA/yvA/6vA/+wA4exA7q2A6+3AwA=', 'AAECAaIHBrICrwSSlwPBrgPjtAPLwAMMtAHtAs0DiAfdCI+XA/WnA7muA/6uA6qvA86vA4KxAwA=', 'AAECAYsWBK8EoIADzIEDn7cDDc8GrweY+wL2/QLW/gLX/gLZ/gLh/gLFoQOHrgPqsAPssAONtgMA', 'AAECAaa4Awok/gH3A67SAvX8AsX9AvihA6miA6+iA/atAwpAVl/EBsiiA9yiA++iA9mpA/m1A8a3AwA='], ['AAECAZvDAwiyAq8EoIADkpcDwa4D47QDn7cDy8ADC7QB7QKIB90I7/EC9acDua4D/q4Dqq8Dzq8Dm7YDAA==', 'AAECAaHDAwSvBKCAA4iwA5+3Aw1A4QTOlAPSpQPZqQP7rQOMrgPerwPnsAP/sAOFsQOHsQP/tQMA', 'AAECAZ/DAwKvBIewAw7HA8kE4QSXCIqtA4utA/muA/uvA/yvA/6vA/+wA4exA7q2A6+3AwA=', 'AAECAaXDAx6KAckDqwTFBMsE4QfsB40IvuwCzu8C7vYCxvgCoIAD6IkDg5YDn5sDoJsDip4DwqED/KMDi6QDkqQDhKcD9awD+qwD8K8DkbEDjLYD4bYDn7cDAAA='], ['AAECAZICBiSu0gL1/ALYoAP4oQP2rQMMQFZf/gH3A8QGv/ICqaIDyKID76ID2akD+bUDAA==', 'AAECAa/XAx6oArUDrwThBJcI2wmggAOghQO2nAP8owPkpAOmpQPSpQOEpwOKrQOLrQOOrQP5rgP8rwP+rwOHsAP/sAOCsQORsQPYsgOEtgO6tgPDtgOftwOvtwMAAA==', 'AAECAaIHCLICrwSggAOSlwPBrgPjtAOftwPLwAMLtAHtAs0DiAePlwP1pwO5rgP+rgOqrwPOrwOCsQMA', 'AAECAaPLAwLjtAPFwAMOFhyQA9QEnfAC3KkD2K0D2q0D/q4Dqq8D0q8DpLYDq7YDurYDAA=='], ['AAECAR8eqAK1A68E4QSXCNsJoIADoIUDtpwD/KMD5KQDpqUD0qUDhKcDiq0Di60Djq0D+a4D/K8D/q8Dh7AD/7ADgrEDkbED2LIDhLYDurYDw7YDn7cDr7cDAAA=', 'AAECAaIHCLICrwSggAOSlwPBrgPjtAOftwPLwAMLtAHtAs0DiAePlwP1pwO5rgP+rgOqrwPOrwOCsQMA', 'AAECAc2xAh6KAckDqwTFBMsEjQi+7ALO7wLu9gLG+AKggAPoiQODlgOfmwOgmwOKngOhoQPCoQP8owOLpAOSpAPypQOEpwP6rAPwrwORsQOEtgOMtgPhtgOftwMAAA==', 'AAECAQcErwSz/ALjtAPFwAMNFpAD1AT7DJ3wAtypA9itA9qtA/6uA6qvA9KvA6S2A6u2AwA='], ['AAECAa/XAwTHA4cErwSHsAMN4QSXCIqtA4utA/muA/uvA/yvA/6vA+ewA/+wA4exA7q2A6+3AwA=', 'AAECAZ/HAgiggAONggOWigOTmwOGnQODoAPdqwPZrAML1gqXhwOClAOYmwOZmwOhoQOvpQPRpQOZqQOfqQPyrAMA', 'AAECAYO6AgayAq8EkpcDwa4D47QDy8ADDLQB7QLNA4gH3QiPlwP1pwO5rgP+rgOqrwPOrwOCsQMA', 'AAECAbSKAwSvBI3wAqCAA5+3Aw1A4QTSpQPZqQP7rQP9rQOMrgPerwPnsAP/sAOFsQOHsQP/tQMA'], ['AAECAbSKAwSvBKCAA/2wA5+3Aw1A4QTSpQPZqQP7rQP9rQOMrgPerwPnsAP/sAOFsQOHsQP/tQMA', 'AAECAaIHCLICrwSggAOSlwPBrgPjtAOftwPLwAMLtAHtAs0DiAePlwP1pwO5rgP+rgOqrwPOrwOCsQMA', 'AAECAQcErwT7DOO0A8XAAw0WHJAD1ASd8ALcqQPYrQParQP+rgOqrwPSrwOktgOrtgMA', 'AAECAR8CrwTbCQ7HA+EElwjv8QKKrQOLrQP5rgP7rwP8rwP+rwP/sAOHsQO6tgOvtwMA'], [nan, nan, nan, nan], ['AAECAR8engGoArUDxwOHBK8ErgaAB5cIxQjbCf4MmPAC7/ECgPMCoIADp4IDm4UDoIUD9YkD5pYD+ZYDvpgDtpwD/KMD5aQDn6UDoqUDpqUDn7cDAAA=', 'AAECAf0GAuO0A/G/Aw4w0wGxCMII3IYDxIkDiJ0D/acD6KwD6qwD+a4D/q4Dqq8D068DAA==', 'AAECAQcGkAOvBKCAA/WoA+O0A8XAAwwW1AT7DJ3wApvzArP8AtypA9itA9qtA/6uA6qvA9KvAwA=', 'AAECAaoIBO/3ArmZA9WlA+GoAw2cAt4F7/ECi4UDq4wDtJEDtJcDxpkDpaEDu6UDz6UD1KUD+aUDAA=='], ['AAECAQcGkAOvBOO0A6u2A5+3A8XAAwwW1AT7DJ3wArP8AtypA9itA9qtA/6uA6qvA9KvA6S2AwA=', 'AAECAR8ExwOHBK8Eh7ADDeEElwiKrQOLrQP5rgP7rwP8rwP+rwPnsAP/sAOHsQO6tgOvtwMA', 'AAECAc2xAh6KAckDqwTFBMsE4QeNCL7sAs7vAu72Asb4AqCAA+iJA4OWA5+bA6CbA4qeA6GhA/yjA4ukA5KkA/KlA4SnA/qsA/CvA5GxA4S2A4y2A+G2A5+3AwAA', 'AAECAYO6AgayAq8EkpcDwa4D47QDy8ADDLQB7QLNA4gHj5cD9acDua4D/q4Dqq8Dzq8DgrEDm7YDAA=='], ['AAECAR8EhwSvBIewA+ewAw3HA+EElwiKrQOLrQP5rgP7rwP8rwP+rwP/sAOHsQO6tgOvtwMA', 'AAECAaPLAwLjtAPFwAMOFhyQA9QE+wyd8ALcqQPYrQParQP+rgOqrwPSrwOktgOrtgMA', 'AAECAZ/HAgqlCdMKoIADjYIDk5sDmJsD0aUD8qUD47QDyMADCpeHA4KUA5mbA6GhA6+lA5mpA5+pA9msA/KsA/2wAwA=', 'AAECAbSKAwgk/gGu0gK/8gL1/ALF/QL4oQP2rQMLQFZf9wPEBqmiA6+iA8iiA++iA9mpA/m1AwA='], ['AAECAaPDAwrFBJz4AqCAA/yjA9OvA/2wA5GxA+O0A5+3A/G/AwqjAcQInakD5awD6KwD6qwD66wD7KwD/q4Dqq8DAA==', 'AAECAZvDAwqyAq8EoIADkpcDwa4DgrED47QDw7YDn7cDy8ADCrQB7QLNA4gHj5cD9acDua4D/q4Dqq8Dzq8DAA==', 'AAECAZfDAwSvBPSnA+O0A8XAAw0WkAPUBPsMnfAC3KkD2K0D2q0D/q4Dqq8D0q8DpLYDq7YDAA==', 'AAECAaXDAx6KAckDqwTFBMsE4QfsB40IvuwCzu8C7vYCxvgCoIAD6IkDg5YDn5sDoJsDip4D/KMDi6QDkqQD8qUDhKcD+qwD8K8DkbEDhLYDjLYD4bYDn7cDAAA='], ['AAECAR8ExwOHBK8Eh7ADDeEElwiKrQOLrQP5rgP7rwP8rwP+rwPnsAP/sAOHsQO6tgOvtwMA', 'AAECAaIHBrICrwSSlwPBrgPjtAPLwAMMtAHtAs0DiAfdCI+XA/WnA7muA/6uA6qvA86vA4KxAwA=', 'AAECAZICAv0C960DDkDtA+YF3/sCv/0C1YMDw5QDzpQD05wD7aID76ID/K0D/q0D/60DAA==', 'AAECAf0GAvb9AvG/Aw4wsQjCCNyGA4idA/2nA+isA+qsA/muA/6uA6qvA9OvA7C2A7q2AwA='], ['AAECAf0GAuO0A/G/Aw4w0wGxCMII3IYDxIkDiJ0D/acD6KwD6qwD+a4D/q4D068DgrEDAA==', 'AAECAR8eqAK1A8cDrwTJBOEElwjFCNsJmPAC7/ECoIADoIUDtpwD/KMD5KQDpqUDhKcDi60Djq0D+a4D+68D/K8D/q8Dh7AD57ADgrEDkbED2LIDn7cDAAA=', 'AAECAZ/HAgjWCqCAA42CA9aZA5ObA5ibA9msA8jAAwuXhwOClAOZmwOhoQOvpQPRpQOZqQOfqQPyrAPNrwP9sAMA', 'AAECAYsWBK8E3QqggAOftwMNzwavB5j7Avb9Atb+Atf+Atn+AuH+AsyBA8WhA4euA+qwA+ywAwA='], ['AAECAYsWBK8E3QqggAOftwMNzwavB5j7Avb9Atb+Atf+Atn+AuH+AsyBA8WhA4euA+qwA+ywAwA=', 'AAECAR8ExwOHBK8Eh7ADDeEElwiKrQOLrQP5rgP7rwP8rwP+rwPnsAP/sAOHsQO6tgOvtwMA', 'AAECAYO6AgqyAq8E3QiggAOSlwPBrgOCsQPjtAOftwPLwAMKtAHtAs0DiAePlwP1pwO5rgP+rgOqrwPOrwMA', 'AAECAcn1AgLjtAPxvwMOMNMBsQjCCNyGA8SJA4idA/2nA+isA+qsA/muA/6uA9OvA4KxAwA='], ['AAECAR8ExwOvBJcIh7ADDYcE4QSKrQOLrQP5rgP7rwP8rwP+rwPnsAP/sAOHsQO6tgOvtwMA', 'AAECAYsWBK8E3QqggAOftwMNzwavB5j7Avb9Atb+Atf+Atn+AuH+AsyBA8WhA4euA+qwA+ywAwA=', 'AAECAZ/HAgiggAONggPWmQOTmwPRpQOfqQP9sAPIwAML1gqXhwOClAOYmwOZmwOhoQOvpQOZqQPZrAPyrAPNrwMA', 'AAECAdfXAwL3A/etAw79Au0D5gXf+wK//QLVgwPDlAPOlAPTnAPtogPvogP8rQP+rQP/rQMA'], ['AAECAR8eqAK1A8cDhwTJBOEExQiBCv4MmPACoIADp4IDm4UDoIUD+ZYDnp0D/KMD5KQD5aQDn6UDoqUDpqUDjq0D+68D/K8D/q8Dh7ADkbED2LIDr7cDAAA=', 'AAECAcn1Agi0A8UE7QWc+AKggAPwrAPxrAOIsAMLigHyBc4H4QeNCMQI5awD66wD7KwD7qwDh7EDAA==', 'AAECAZ/HAgbTCqCAA42CA9aZA5ObA92rAwzWCpeHA4KUA5ibA5mbA4OgA6GhA6+lA9GlA5mpA5+pA/KsAwA=', 'AAECAYO6AgiyAq8EoIADkpcDwa4D47QDn7cDy8ADC7QB7QLNA4gHj5cD9acDua4D/q4Dqq8Dzq8DgrEDAA=='], ['AAECAa/XAwKvBIewAw7HA+EElwiKrQOLrQP5rgP7rwP8rwP+rwPnsAP/sAOHsQO6tgOvtwMA', 'AAECAf0EHooByQOrBMUEywThB40IvuwCzu8C7vYCxvgCoIAD6IkDg5YDn5sDoJsDip4DoaED/KMDi6QDkqQD8qUDhKcD+qwD8K8DkbEDhLYDjLYD4bYDn7cDAAA=', 'AAECAaIHCrICzQOvBKCAA5KXA8GuA+O0A5u2A8O2A8vAAwq0Ae0CiAePlwP1pwO5rgP+rgOqrwPOrwOCsQMA', 'AAECAQcEkAOvBOO0A8XAAw0W1AT7DJ3wArP8AtypA9itA9qtA/6uA6qvA9KvA6S2A6u2AwA='], ['AAECAR8ExwOHBK8Eh7ADDeEElwjv8QKKrQOLrQP5rgP7rwP8rwP+rwP/sAOHsQO6tgOvtwMA', 'AAECAcOfAwSvBN0KoIADn7cDDc8GrweY+wL2/QLW/gLX/gLZ/gLh/gLMgQPFoQOHrgPqsAPssAMA', 'AAECAaPLAwLjtAPFwAMOFhyQA/sMnfAC3KkD2K0D2q0D/q4Dqq8D0q8DpLYDq7YDurYDAA==', 'AAECAZ/HAgjWCqCAA42CA9aZA5ObA5ibA9msA8jAAwuXhwOClAOZmwOhoQOvpQPRpQOZqQOfqQPyrAPNrwP9sAMA'], ['AAECAf0EHooByQOrBMUEywThB+wHjQi+7ALO7wLu9gLG+AKggAPoiQODlgOfmwOgmwOKngP8owOLpAOSpAPypQOEpwP6rAPwrwORsQOEtgOMtgPhtgOftwMAAA==', 'AAECAYwWBK8E47QDn7cDxcADDRaQA9QE+wyd8ALcqQPYrQParQP+rgOqrwPSrwOktgOrtgMA', 'AAECAaIHBrICrwSSlwPBrgPjtAPLwAMMtAHtAs0DiAePlwP1pwO5rgP+rgOqrwPOrwOCsQObtgMA', 'AAECAR8ExwOHBK8Eh7ADDeEElwiKrQOLrQP5rgP7rwP8rwP+rwPnsAP/sAOHsQO6tgOvtwMA'], ['AAECAR8ExwOHBK8Eh7ADDeEElwiKrQOLrQP5rgP7rwP8rwP+rwPnsAP/sAOHsQO6tgOvtwMA', 'AAECAaToAgSvBKCAA+ywA5+3Aw3PBq8HmPsC9v0C1v4C1/4C2f4C4f4CzIEDxaEDh64D6rADjbYDAA==', 'AAECAYO6AgayAq8EkpcDwa4D47QDy8ADDLQB7QLNA4gH3Qjv8QKPlwP1pwO5rgP+rgOqrwPOrwMA', 'AAECAQcErwTjtAOftwPFwAMNFtQE+wyd8AKz/ALcqQPYrQParQP+rgOqrwPSrwOktgOrtgMA'], ['AAECAaPLAwivBPIFigf7DKCAA/KoA+O0A8XAAwtLogT/B53wApvzArP8AtitA9qtA/6uA6qvA9KvAwA=', 'AAECAdfXAwL3A/etAw79Au0D5gXf+wK//QLVgwPDlAPOlAPTnAPtogPvogP8rQP+rQP/rQMA', 'AAECAaIHBLICkpcD47QDy8ADDbQBtPYC3voC7PwCj5cD9acDua4Du64Dva4Dv64D/q4Dqq8Dzq8DAA==', 'AAECAf0GCMUEnPgCoIAD/KMD068DkbED47QD8b8DC6MBxAidqQPlrAPorAPqrAPrrAPsrAP+rgOqrwP9sAMA'], ['AAECAR8ExwOHBK8Eh7ADDeEElwiKrQOLrQP5rgP7rwP8rwP+rwPnsAP/sAOHsQO6tgOvtwMA', 'AAECAQcGkAOvBOO0A6u2A5+3A8XAAwwW1AT7DJ3wArP8AtypA9itA9qtA/6uA6qvA9KvA6S2AwA=', 'AAECAafDAwbWCqCAA42CA9aZA5ObA8jAAwyXhwOClAOYmwOZmwOhoQOvpQOZqQOfqQPZrAPyrAPNrwP9sAMA', 'AAECAaIHCLICrwSggAOSlwPBrgPjtAOftwPLwAMLtAHtAs0DiAePlwP1pwO5rgP+rgOqrwPOrwOCsQMA'], ['AAECAf0GCMUEnPgCoIAD/KMD068DkbED47QD8b8DC6MBxAidqQPlrAPorAPqrAPrrAPsrAP+rgOqrwP9sAMA', 'AAECAYO6AgayAq8EkpcDwa4D47QDy8ADDLQB7QLNA4gH3Qjv8QKPlwP1pwO5rgP+rgOqrwPOrwMA', 'AAECAZ8FBK8E3QqggAOftwMNzwavB5j7Avb9Atb+Atf+Atn+AuH+AsyBA8WhA4euA+qwA+ywAwA=', 'AAECAbSKAwSvBI3wAqCAA5+3Aw1A4QTSpQPZqQP7rQP9rQOMrgPerwPnsAP/sAOFsQOHsQP/tQMA'], [nan, nan, nan, nan], ['AAECAZICAvcD960DDv0C7QPmBd/7Ar/9AtWDA8OUA86UA9OcA+2iA++iA/ytA/6tA/+tAwA=', 'AAECAaPLAx5LogT8BJAH/wed8AKb8wL09QKS+AKO+wKe+wKz/AKggAPsiQOSnwOfoQOloQP8owOEpwOCqAPyqAP1qAPZrQPfrQORsQP/tAOltgOrtgPHtgOftwMAAA==', 'AAECAR8ExwOHBK8Eh7ADDeEElwiKrQOLrQP5rgP7rwP8rwP+rwPnsAP/sAOHsQO6tgOvtwMA', 'AAECAZ8FBK8E3QqggAOftwMNzwavB5j7Avb9Atb+Atf+Atn+AuH+AsyBA8WhA4euA+qwA+ywAwA='], ['AAECAc2xAh6KAckDqwTFBMsE4QeNCL7sAs7vAu72Asb4AqCAA+iJA4OWA5+bA6CbA4qeA6GhA/yjA4ukA5KkA/KlA4SnA/qsA/CvA5GxA4S2A4y2A+G2A5+3AwAA', 'AAECAZ/HAgjWCqCAA42CA9aZA5ObA5ibA9GlA8jAAwuXhwOClAOZmwOhoQOvpQOZqQOfqQPZrAPyrAPNrwP9sAMA', 'AAECAa/XAwTHA4cErwSHsAMN4QSXCIqtA4utA/muA/uvA/yvA/6vA+ewA/+wA4exA7q2A6+3AwA=', 'AAECAaIHCLICrwSggAOSlwPBrgPjtAOftwPLwAMLtAHtAs0DiAePlwP1pwO5rgP+rgOqrwPOrwOCsQMA'], ['AAECAYO6AgiyAq8EoIADkpcDwa4D47QDn7cDy8ADC7QB7QLNA4gHj5cD9acDua4D/q4Dqq8Dzq8DgrEDAA==', 'AAECAQcEnQKvBOO0A8XAAw0WHJADnfACs/wC9KcD3KkD2K0D2q0D/q4Dqq8D0q8Dq7YDAA==', 'AAECAaCsAwjWCqCAA42CA9aZA5ObA5ibA9msA8jAAwuXhwOClAOZmwOhoQOvpQPRpQOZqQOfqQPyrAPNrwP9sAMA', 'AAECAR8ExwOHBK8Eh7ADDeEElwiKrQOLrQP5rgP7rwP8rwP+rwPnsAP/sAOHsQO6tgOvtwMA'], ['AAECAaPDAwrFBMQInPgCoIAD/KMD068DkbED47QDn7cD8b8DCqMBnakD5awD6KwD6qwD66wD7KwD/q4Dqq8D/bADAA==', 'AAECAR8ExwOHBK8Eh7ADDeEElwiKrQOLrQP5rgP7rwP8rwP+rwPnsAP/sAOHsQO6tgOvtwMA', 'AAECAZvDAwqyAs0DrwSggAOSlwPBrgOCsQPjtAOftwPLwAMKtAHtAogHj5cD9acDua4D/q4Dqq8Dzq8Dw7YDAA==', 'AAECAf0EHooByQOrBMUEywThB+wHjQjO7wLu9gLG+AKggAPoiQODlgOfmwOgmwOKngP8owOLpAOSpAPypQOEpwP6rAPwrwORsQOEtgOMtgPDtgPhtgOftwMAAA=='], ['AAECAYO6AgiyAq8EoIADkpcDwa4D47QDn7cDy8ADC7QB7QLNA4gHj5cD9acDua4D/q4Dqq8Dzq8DgrEDAA==', 'AAECAf0GAuO0A/G/Aw4w0wGxCMII3IYDxIkDiJ0D/acD6KwD6qwD+a4D/q4D068DgrEDAA==', 'AAECAR8ExwOHBK8Eh7ADDeEElwiKrQOLrQP5rgP7rwP8rwP+rwPnsAP/sAOHsQO6tgOvtwMA', 'AAECAbSKAwSvBI3wAqCAA5+3Aw1A4QTSpQPZqQP7rQP9rQOMrgPerwPnsAP/sAOFsQOHsQP/tQMA'], ['AAECAZ/HAgKppQOFrQMO+ALlBNUIpQnRCtIK8gz3DPsMr6UD0qUD/acDhKgDhLYDAA==', 'AAECAdfXAwbEBq7SAr/yAvX8AvihA/O3AwxAVl/+AfcDqaIDyKID3KID76ID2akD+bUDxrcDAA==', 'AAECAYO6Ah60AbIC7QLNA68EiAfdCKbvAu/xAqCAA7SGA7SRA4+XA5KXA72ZA4mbA/yjA4SnA/WnA7euA7muA7+uA/6uA6qvA86vA5GxA+O0A4S2A8O2A8vAAwAA', 'AAECAaPDAwKCpQPHtgMO2QexCMII+v4CxIkDtJEDiJ0D+qQD+6QD/KQDgaUD+a4DsLYDurYDAA=='], ['AAECAZICBK8EoIADiLADn7cDDUDhBNKlA9mpA/utA/2tA4yuA96vA+ewA/+wA4WxA4exA/+1AwA=', 'AAECAZ/HAgjWCqCAA42CA9aZA5ObA5ibA9msA8jAAwuXhwOClAOZmwOhoQOvpQPRpQOZqQOfqQPyrAPNrwP9sAMA', 'AAECAZ/DAwSHBK8Eh7AD57ADDccD4QSXCIqtA4utA/muA/uvA/yvA/6vA/+wA4exA7q2A6+3AwA=', 'AAECAaPLAwSQA68E47QDxcADDRYc1AT7DJ3wAtypA9itA9qtA/6uA6qvA9KvA6S2A6u2AwA='], ['AAECAYoWBMcDhwSvBIewAw3hBJcIiq0Di60D+a4D+68D/K8D/q8D57AD/7ADh7EDurYDr7cDAA==', 'AAECAaToAgSvBK8HoIADn7cDDc8GmPsC9v0C1v4C1/4C2f4C4f4CzIEDxaEDh64D6rAD7LADjbYDAA==', 'AAECAYO6AgiyAq8EoIADkpcDwa4D47QDn7cDy8ADC7QB7QLNA4gHj5cD9acDua4D/q4Dqq8Dzq8DgrEDAA==', 'AAECAaCsAwjWCqCAA42CA9aZA5ObA5ibA9GlA8jAAwuXhwOClAOZmwOhoQOvpQOZqQOfqQPZrAPyrAPNrwP9sAMA'], ['AAECAa0GCNYKoIADjYID1pkDk5sDmJsD0aUDyMADC5eHA4KUA5mbA6GhA6+lA5mpA5+pA9msA/KsA82vA/2wAwA=', 'AAECAR8ExwOHBK8Eh7ADDeEElwjv8QKKrQOLrQP5rgP7rwP8rwP+rwP/sAOHsQO6tgOvtwMA', 'AAECAQcErwT7DOO0A8XAAw0WHJAD1ASd8ALcqQPYrQParQP+rgOqrwPSrwOktgOrtgMA', 'AAECAZ8FBK8ErweggAOftwMNzwaY+wL2/QLW/gLX/gLZ/gLh/gLMgQPFoQOHrgPqsAPssAONtgMA'], ['AAECAf0GCMUEnPgCoIAD/KMDkbED47QDn7cD8b8DC6MBxAidqQPlrAPorAPqrAPrrAPsrAP+rgOqrwP9sAMA', 'AAECAaa4Awgk/gGu0gL1/ALSmQP4oQPcogP2rQMLQFZfxAa/8gKpogPIogPvogPZqQP5tQPGtwMA', 'AAECAZ/HAgzWCqCAA42CA5aKA9aZA5ObA5ibA4adA9GlA9msA/2wA8jAAwmXhwOClAOZmwOhoQOvpQOZqQOfqQPyrAPNrwMA', 'AAECAYoWBK8EoIADh7ADn7cDDeEElwjv8QKKrQOLrQP5rgP8rwP+rwPnsAP/sAOHsQO6tgOvtwMA'], ['AAECAYO6AgiyAq8EoIADkpcDwa4D47QDn7cDy8ADC7QB7QLNA4gHj5cD9acDua4D/q4Dqq8Dzq8DgrEDAA==', 'AAECAR8ExwOHBK8Eh7ADDeEElwiKrQOLrQP5rgP7rwP8rwP+rwPnsAP/sAOHsQO6tgOvtwMA', 'AAECAf0EHooByQOrBMUEywThB+wHjQi+7ALO7wLu9gLG+AKggAPoiQODlgOfmwOgmwOKngP8owOLpAOSpAPypQOEpwP6rAPwrwORsQOEtgOMtgPhtgOftwMAAA==', 'AAECAaPLAwSggAOopAPjtAPFwAMNkAPUBJ3wApykA5+kA6SkA4KoA9itA9qtA/6uA6qvA9KvA6S2AwA='], ['AAECAc2xAh5NyQOrBMsE4QfsB40Izu8C7vYCxvgCoIAD6IkD7IkDg5YDoJsDip4DwqED/KMDi6QDkqQDhKcD+qwD7K8D8K8D57ADkbEDhLYDjLYD4bYDn7cDAAA=', 'AAECAaa4AwavBI3wAqCAA/atA4iwA5+3AwzhBNKlA9mpA/utA/2tA4yuA96vA+ewA/CwA/+wA4WxA/+1AwA=', 'AAECAZ/HAgbTCqCAA42CA9aZA5ObA92rAwzWCpeHA9iJA4KUA5ibA5mbA6GhA6+lA9GlA5mpA5+pA/KsAwA=', 'AAECAYO6AgqyAq8E3QiggAOSlwPBrgOCsQPjtAOftwPLwAMKtAHtAs0DiAePlwP1pwO5rgP+rgOqrwPOrwMA'], ['AAECAYO6AgiyAs0DrwSSlwPBrgOCsQPjtAPLwAMLtAHtAogHj5cD9acDua4D/q4Dqq8Dzq8Dm7YDw7YDAA==', 'AAECAQceS6IE/ASQB/8HnfACm/MC9PUCkvgCjvsCnvsCs/wCoIAD6IkD7IkDkp8Dn6EDpaED/KMDhKcD8qgD9agD2a0D360DkbED/7QDpbYDq7YDx7YDn7cDAAA=', 'AAECAf0GCMUEnPgCoIAD/KMDkbED47QDn7cD8b8DC6MBxAidqQPlrAPorAPqrAPrrAPsrAP+rgOqrwP9sAMA', 'AAECAf0EHooByQOrBMUEywThB+wHjQi+7ALO7wLu9gLG+AKggAPoiQODlgOfmwOgmwOKngP8owOLpAOSpAPypQOEpwP6rAPwrwORsQOEtgOMtgPhtgOftwMAAA==']]\n"
    }
   ],
   "source": [
    "deckStrings = dfv_round_1.values.tolist()\n",
    "print(deckStrings)"
   ]
  },
  {
   "cell_type": "code",
   "execution_count": 69,
   "metadata": {},
   "outputs": [
    {
     "name": "stdout",
     "output_type": "stream",
     "text": "164\n116\nAAECAf0GAuO0A/G/Aw4w0wGxCMII3IYDxIkDiJ0D/acD6KwD6qwD+a4D/q4Dqq8D068DAA==\n"
    }
   ],
   "source": [
    "np_deckStrings = np.array(deckStrings)\n",
    "deckStrings_new = np_deckStrings.flatten()\n",
    "print(len(deckStrings_new))\n",
    "deckStrings_new = set(deckStrings_new)\n",
    "deckStrings_new = list(deckStrings_new)\n",
    "print(len(deckStrings_new))\n",
    "print(deckStrings_new[10])"
   ]
  },
  {
   "cell_type": "code",
   "execution_count": 98,
   "metadata": {},
   "outputs": [
    {
     "name": "stdout",
     "output_type": "stream",
     "text": "{'name': 'Kronx Dragonhoof', 'cost': 6.0}\n{'name': 'Kronx Dragonhoof', 'cost': 6.0}\n{'name': 'Galakrond, the Wretched', 'cost': 7.0}\n{'name': 'Galakrond, the Wretched', 'cost': 7.0}\n{'name': 'Voidwalker', 'cost': 1.0}\n{'name': 'Voidwalker', 'cost': 1.0}\n{'name': 'Sea Giant', 'cost': 10.0}\n{'name': 'Sea Giant', 'cost': 10.0}\n{'name': 'Knife Juggler', 'cost': 2.0}\n{'name': 'Knife Juggler', 'cost': 2.0}\n{'name': 'Flame Imp', 'cost': 1.0}\n{'name': 'Flame Imp', 'cost': 1.0}\n{'name': 'Grim Rally', 'cost': 1.0}\n{'name': 'Grim Rally', 'cost': 1.0}\n{'name': 'Scarab Egg', 'cost': 2.0}\n{'name': 'Scarab Egg', 'cost': 2.0}\n{'name': 'EVIL Genius', 'cost': 2.0}\n{'name': 'EVIL Genius', 'cost': 2.0}\n{'name': 'Beaming Sidekick', 'cost': 1.0}\n{'name': 'Beaming Sidekick', 'cost': 1.0}\n{'name': 'Dragonblight Cultist', 'cost': 3.0}\n{'name': 'Dragonblight Cultist', 'cost': 3.0}\n{'name': 'Veiled Worshipper', 'cost': 4.0}\n{'name': 'Veiled Worshipper', 'cost': 4.0}\n{'name': 'Blazing Battlemage', 'cost': 1.0}\n{'name': 'Blazing Battlemage', 'cost': 1.0}\n{'name': 'Shield of Galakrond', 'cost': 5.0}\n{'name': 'Shield of Galakrond', 'cost': 5.0}\n{'name': 'Devoted Maniac', 'cost': 4.0}\n{'name': 'Devoted Maniac', 'cost': 4.0}\n{'name': 'Fiendish Rites', 'cost': 4.0}\n{'name': 'Fiendish Rites', 'cost': 4.0}\n"
    }
   ],
   "source": [
    "deck = Deck.from_deckstring(deckStrings_new[10])\n",
    "card_ids = deck.cards\n",
    "names = []\n",
    "\n",
    "for item in card_ids:\n",
    "    for i in range(quant):\n",
    "        print(cards_dict[item[0]])\n"
   ]
  },
  {
   "cell_type": "code",
   "execution_count": null,
   "metadata": {},
   "outputs": [],
   "source": []
  }
 ]
}